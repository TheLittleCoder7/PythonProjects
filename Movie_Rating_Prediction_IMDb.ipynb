{
  "nbformat": 4,
  "nbformat_minor": 0,
  "metadata": {
    "colab": {
      "name": "Movie Rating Prediction IMDb.ipynb",
      "provenance": [],
      "collapsed_sections": [],
      "toc_visible": true
    },
    "kernelspec": {
      "name": "python3",
      "display_name": "Python 3"
    },
    "language_info": {
      "name": "python"
    }
  },
  "cells": [
    {
      "cell_type": "markdown",
      "source": [
        "# International Movie Database (IMDb)\n",
        "---\n",
        "\n",
        "IMDb is an online database of information related to films, television series, home videos, video games, and streaming content online – including cast, production crew and personal biographies, plot summaries, trivia, ratings, and fan and critical reviews. IMDb began as a fan-operated movie database on the Usenet group \"rec.arts.movies\" in 1990, and moved to the Web in 1993. It is now owned and operated by IMDb.com, Inc., a subsidiary of Amazon\n",
        "\n",
        "![](https://static.amazon.jobs/teams/53/thumbnails/IMDb_Jobs_Header_Mobile.jpg?1501027253)"
      ],
      "metadata": {
        "id": "m3ppgMO018iw"
      }
    },
    {
      "cell_type": "code",
      "source": [
        "from google.colab import drive\n",
        "drive.mount('/content/drive')"
      ],
      "metadata": {
        "colab": {
          "base_uri": "https://localhost:8080/"
        },
        "id": "HIhRmhwL1yMi",
        "outputId": "6fb3d5f7-d63c-493f-d7f5-d88dc42ead9b"
      },
      "execution_count": 165,
      "outputs": [
        {
          "output_type": "stream",
          "name": "stdout",
          "text": [
            "Drive already mounted at /content/drive; to attempt to forcibly remount, call drive.mount(\"/content/drive\", force_remount=True).\n"
          ]
        }
      ]
    },
    {
      "cell_type": "markdown",
      "source": [
        "We will be predicting movie ratings with the help of data being collected from IMDb and Kaggle"
      ],
      "metadata": {
        "id": "dld24Aau5hnD"
      }
    },
    {
      "cell_type": "markdown",
      "source": [
        "#Importing required libraries"
      ],
      "metadata": {
        "id": "Si_-4aq56Av2"
      }
    },
    {
      "cell_type": "code",
      "source": [
        "# importing libraries\n",
        "\n",
        "import lxml\n",
        "import re\n",
        "import numpy as np\n",
        "import pandas as pd\n",
        "from bs4 import BeautifulSoup\n",
        "from requests import get \n",
        "from sklearn.preprocessing import OneHotEncoder\n",
        "import seaborn as sns\n",
        "from sklearn.model_selection import train_test_split\n",
        "from sklearn.linear_model import LinearRegression\n",
        "from sklearn import metrics\n",
        "from sklearn.metrics import r2_score, mean_squared_error\n",
        "import matplotlib.pyplot as plt\n",
        "from numpy import loadtxt\n",
        "from keras.models import Sequential\n",
        "from keras.layers import Dense\n",
        "from sklearn.ensemble import RandomForestRegressor\n",
        "from sklearn.metrics import mean_absolute_error\n",
        "from sklearn.tree import DecisionTreeRegressor"
      ],
      "metadata": {
        "id": "uEfaHfMm5aPs"
      },
      "execution_count": 166,
      "outputs": []
    },
    {
      "cell_type": "markdown",
      "source": [
        "# Web Scraping"
      ],
      "metadata": {
        "id": "99WAfmCb8CU3"
      }
    },
    {
      "cell_type": "code",
      "source": [
        "# List of URLs\n",
        "url1 = []\n",
        "pages = np.arange(1,10000,100)\n",
        "for i in pages:\n",
        "  url1.append(\"https://www.imdb.com/search/title/?title_type=feature,tv_series&count=100&start=\" + str(i)+\"&ref_=adv_nxt\")\n",
        "  \n",
        "# creating a web scraping function\n",
        "class IMDB(object):\n",
        " \n",
        "  def __init__(self, url):\n",
        "    super(IMDB, self).__init__()\n",
        "    page = get(url)\n",
        "\n",
        "    self.soup = BeautifulSoup(page.content, 'lxml')\n",
        "\n",
        "\n",
        "  def articleTitle(self):\n",
        "    return self.soup.find(\"h1\", class_=\"header\").text.replace(\"\\n\",\"\")\n",
        "\n",
        "  def bodyContent(self):\n",
        "    content = self.soup.find(id=\"main\")\n",
        "    return content.find_all(\"div\",class_=\"lister-item mode-advanced\")\n",
        "\n",
        "  def movieData(self):\n",
        "    movieFrame = self.bodyContent()\n",
        "    movieTitle = []\n",
        "    movieDate = []\n",
        "    movieRunTime = []\n",
        "    movieGenre = []\n",
        "    movieRating = []\n",
        "    movieScore = []\n",
        "    movieDescription = []\n",
        "    movieDirector = []\n",
        "    movieStars = []\n",
        "    movieVotes = []\n",
        "    movieGross = []\n",
        "    movieMetascore1 = []\n",
        "    movieMetascore2 = []\n",
        "    movieMetascore3 = []\n",
        "    for movie in movieFrame:\n",
        "      movieFirstLine = movie.find(\"h3\", class_=\"lister-item-header\")\n",
        "      movieTitle.append(movieFirstLine.find(\"a\").text)\n",
        "      movieDate.append(re.sub(r\"[()]\",\"\", movieFirstLine.find_all(\"span\")[-1].text))\n",
        "      try:\n",
        "        movieRunTime.append(movie.find(\"span\", class_=\"runtime\").text[:-4])\n",
        "      except: \n",
        "        movieRunTime.append(np.nan)\n",
        "\n",
        "      try:\n",
        "        movieRating.append(movie.find(\"strong\").text)\n",
        "      except:\n",
        "        movieRating.append(np.nan)\n",
        "      \n",
        "      try:\n",
        "        movieScore.append(movie.find(\"span\",class_=\"metascore unfavourable\").text.rstrip())\n",
        "      except:\n",
        "        movieScore.append(np.nan)\n",
        "      \n",
        "      movieDescription.append(movie.find_all(\"p\",class_=\"text-muted\")[-1].text.lstrip())\n",
        "      movieCast = movie.find(\"p\",class_=\"\")\n",
        "\n",
        "      try:\n",
        "        casts = movieCast.text.replace(\"\\n\",\"\").split('|')\n",
        "        casts = [x.strip() for x in casts]\n",
        "        casts = [casts[i].replace(j, \"\") for i,j in enumerate([\"Director:\", \"Stars\"])]\n",
        "        movieDirector.append(casts[0])\n",
        "        movieStars.append([x.strip() for x in casts[1].split(\",\")])\n",
        "\n",
        "      except:\n",
        "        casts = movieCast.text.replace(\"\\n\",\"\").strip()\n",
        "        movieDirector.append(np.nan)\n",
        "        movieStars.append([x.strip() for x in casts.split(\",\")])\n",
        "\n",
        "      movieNumbers = movie.find_all(\"span\", attrs = {\"name\": \"nv\"})\n",
        "      if len(movieNumbers) == 2:\n",
        "        movieVotes.append(movieNumbers[0].text)\n",
        "        movieGross.append(movieNumbers[1].text)\n",
        "      elif len(movieNumbers) == 1:\n",
        "        movieVotes.append(movieNumbers[0].text)\n",
        "        movieGross.append(np.nan)\n",
        "      else:\n",
        "        movieVotes.append(np.nan)\n",
        "        movieGross.append(np.nan)\n",
        "\n",
        "      movieNumbers2 = movie.find_all(\"span\", class_=\"metascore unfavourable\")\n",
        "\n",
        "      if len(movieNumbers2) == 1:\n",
        "        movieMetascore1.append(movieNumbers2[0].text)\n",
        "      else:\n",
        "        movieMetascore1.append(np.nan)\n",
        "\n",
        "      movieNumbers3 = movie.find_all(\"span\", class_=\"metascore favourable\")\n",
        "\n",
        "      if len(movieNumbers3) == 1:\n",
        "        movieMetascore2.append(movieNumbers3[0].text)\n",
        "      else:\n",
        "        movieMetascore2.append(np.nan)\n",
        "\n",
        "      movieNumbers4 = movie.find_all(\"span\", class_=\"metascore mixed\")\n",
        "\n",
        "      if len(movieNumbers4) == 1:\n",
        "        movieMetascore3.append(movieNumbers4[0].text)\n",
        "      else:\n",
        "        movieMetascore3.append(np.nan)\n",
        "\n",
        "    movieData = [movieTitle, movieDate, movieRunTime, movieRating, movieScore, movieDescription, movieDirector, movieStars, movieVotes,\n",
        "               movieGross, movieMetascore1, movieMetascore2, movieMetascore3]\n",
        "    return movieData\n",
        "\n",
        "# Apply IMDB function on list of URLs and store data in them\n",
        "data = []\n",
        "for i in range(40):\n",
        "  if __name__ == '__main__':\n",
        "    site1=IMDB(url1[i])\n",
        "    print(\"Subject: \",site1.articleTitle())\n",
        "    data.append(site1.movieData())"
      ],
      "metadata": {
        "colab": {
          "base_uri": "https://localhost:8080/"
        },
        "id": "S3qo8xMX8Eav",
        "outputId": "2333814b-0f96-4194-9e34-ee42db13d860"
      },
      "execution_count": 167,
      "outputs": [
        {
          "output_type": "stream",
          "name": "stdout",
          "text": [
            "Subject:  Feature Film/TV Series(Sorted by Popularity Ascending) \n",
            "Subject:  Feature Film/TV Series(Sorted by Popularity Ascending) \n",
            "Subject:  Feature Film/TV Series(Sorted by Popularity Ascending) \n",
            "Subject:  Feature Film/TV Series(Sorted by Popularity Ascending) \n",
            "Subject:  Feature Film/TV Series(Sorted by Popularity Ascending) \n",
            "Subject:  Feature Film/TV Series(Sorted by Popularity Ascending) \n",
            "Subject:  Feature Film/TV Series(Sorted by Popularity Ascending) \n",
            "Subject:  Feature Film/TV Series(Sorted by Popularity Ascending) \n",
            "Subject:  Feature Film/TV Series(Sorted by Popularity Ascending) \n",
            "Subject:  Feature Film/TV Series(Sorted by Popularity Ascending) \n",
            "Subject:  Feature Film/TV Series(Sorted by Popularity Ascending) \n",
            "Subject:  Feature Film/TV Series(Sorted by Popularity Ascending) \n",
            "Subject:  Feature Film/TV Series(Sorted by Popularity Ascending) \n",
            "Subject:  Feature Film/TV Series(Sorted by Popularity Ascending) \n",
            "Subject:  Feature Film/TV Series(Sorted by Popularity Ascending) \n",
            "Subject:  Feature Film/TV Series(Sorted by Popularity Ascending) \n",
            "Subject:  Feature Film/TV Series(Sorted by Popularity Ascending) \n",
            "Subject:  Feature Film/TV Series(Sorted by Popularity Ascending) \n",
            "Subject:  Feature Film/TV Series(Sorted by Popularity Ascending) \n",
            "Subject:  Feature Film/TV Series(Sorted by Popularity Ascending) \n",
            "Subject:  Feature Film/TV Series(Sorted by Popularity Ascending) \n",
            "Subject:  Feature Film/TV Series(Sorted by Popularity Ascending) \n",
            "Subject:  Feature Film/TV Series(Sorted by Popularity Ascending) \n",
            "Subject:  Feature Film/TV Series(Sorted by Popularity Ascending) \n",
            "Subject:  Feature Film/TV Series(Sorted by Popularity Ascending) \n",
            "Subject:  Feature Film/TV Series(Sorted by Popularity Ascending) \n",
            "Subject:  Feature Film/TV Series(Sorted by Popularity Ascending) \n",
            "Subject:  Feature Film/TV Series(Sorted by Popularity Ascending) \n",
            "Subject:  Feature Film/TV Series(Sorted by Popularity Ascending) \n",
            "Subject:  Feature Film/TV Series(Sorted by Popularity Ascending) \n",
            "Subject:  Feature Film/TV Series(Sorted by Popularity Ascending) \n",
            "Subject:  Feature Film/TV Series(Sorted by Popularity Ascending) \n",
            "Subject:  Feature Film/TV Series(Sorted by Popularity Ascending) \n",
            "Subject:  Feature Film/TV Series(Sorted by Popularity Ascending) \n",
            "Subject:  Feature Film/TV Series(Sorted by Popularity Ascending) \n",
            "Subject:  Feature Film/TV Series(Sorted by Popularity Ascending) \n",
            "Subject:  Feature Film/TV Series(Sorted by Popularity Ascending) \n",
            "Subject:  Feature Film/TV Series(Sorted by Popularity Ascending) \n",
            "Subject:  Feature Film/TV Series(Sorted by Popularity Ascending) \n",
            "Subject:  Feature Film/TV Series(Sorted by Popularity Ascending) \n"
          ]
        }
      ]
    },
    {
      "cell_type": "markdown",
      "source": [
        "# Data Preprocessing"
      ],
      "metadata": {
        "id": "Amj03MKWKzc9"
      }
    },
    {
      "cell_type": "code",
      "source": [
        "# Appending data\n",
        "\n",
        "for i in range(len(data)):\n",
        "  data[i]=pd.DataFrame(data[i]).transpose()\n",
        "\n",
        "df = data[0].append([data[1], data[2], data[3], data[4], data[5], data[6], data[7], data[8], data[9], data[10],\n",
        "                     data[11], data[12], data[13], data[14], data[15], data[16], data[17], data[18], data[19], data[20],\n",
        "                     data[21], data[22], data[23], data[24], data[25], data[26], data[27], data[28], data[29], data[30],\n",
        "                     data[31], data[32], data[33], data[34], data[35], data[36], data[37], data[38], data[39]])"
      ],
      "metadata": {
        "id": "RiAG78nNK3TW"
      },
      "execution_count": 168,
      "outputs": []
    },
    {
      "cell_type": "code",
      "source": [
        "# Renaming the year column\n",
        "\n",
        "df_new = df.rename(columns={1: 'year'})\n",
        "df_new.head()"
      ],
      "metadata": {
        "colab": {
          "base_uri": "https://localhost:8080/",
          "height": 250
        },
        "id": "w-A3czjALyAx",
        "outputId": "6272faed-62c3-4663-a98c-7ebcc382fa29"
      },
      "execution_count": 169,
      "outputs": [
        {
          "output_type": "execute_result",
          "data": {
            "text/plain": [
              "                      0       year    2    3    4  \\\n",
              "0       Stranger Things     2016–    51  8.7  NaN   \n",
              "1     Top Gun: Maverick       2022  131  8.7  NaN   \n",
              "2      Better Call Saul  2015–2022   46  8.8  NaN   \n",
              "3  Love, Death & Robots     2019–    15  8.4  NaN   \n",
              "4               Top Gun       1986  110  6.9  NaN   \n",
              "\n",
              "                                                   5      6          7  \\\n",
              "0  When a young boy disappears, his mother, a pol...  TV-14   [51 min]   \n",
              "1  After more than thirty years of service as one...  PG-13  [131 min]   \n",
              "2  The trials and tribulations of criminal lawyer...  TV-MA   [46 min]   \n",
              "3  A collection of animated short stories that sp...  TV-MA   [15 min]   \n",
              "4  As students at the United States Navy's elite ...     PG  [110 min]   \n",
              "\n",
              "           8         9   10   11          12  \n",
              "0  1,009,805       NaN  NaN  NaN         NaN  \n",
              "1     70,363       NaN  NaN  NaN         NaN  \n",
              "2    415,053       NaN  NaN  NaN         NaN  \n",
              "3    144,451       NaN  NaN  NaN         NaN  \n",
              "4    350,289  $179.80M  NaN  NaN  50          "
            ],
            "text/html": [
              "\n",
              "  <div id=\"df-4061fcd5-b9bb-49c0-82be-3d47709b9c0e\">\n",
              "    <div class=\"colab-df-container\">\n",
              "      <div>\n",
              "<style scoped>\n",
              "    .dataframe tbody tr th:only-of-type {\n",
              "        vertical-align: middle;\n",
              "    }\n",
              "\n",
              "    .dataframe tbody tr th {\n",
              "        vertical-align: top;\n",
              "    }\n",
              "\n",
              "    .dataframe thead th {\n",
              "        text-align: right;\n",
              "    }\n",
              "</style>\n",
              "<table border=\"1\" class=\"dataframe\">\n",
              "  <thead>\n",
              "    <tr style=\"text-align: right;\">\n",
              "      <th></th>\n",
              "      <th>0</th>\n",
              "      <th>year</th>\n",
              "      <th>2</th>\n",
              "      <th>3</th>\n",
              "      <th>4</th>\n",
              "      <th>5</th>\n",
              "      <th>6</th>\n",
              "      <th>7</th>\n",
              "      <th>8</th>\n",
              "      <th>9</th>\n",
              "      <th>10</th>\n",
              "      <th>11</th>\n",
              "      <th>12</th>\n",
              "    </tr>\n",
              "  </thead>\n",
              "  <tbody>\n",
              "    <tr>\n",
              "      <th>0</th>\n",
              "      <td>Stranger Things</td>\n",
              "      <td>2016–</td>\n",
              "      <td>51</td>\n",
              "      <td>8.7</td>\n",
              "      <td>NaN</td>\n",
              "      <td>When a young boy disappears, his mother, a pol...</td>\n",
              "      <td>TV-14</td>\n",
              "      <td>[51 min]</td>\n",
              "      <td>1,009,805</td>\n",
              "      <td>NaN</td>\n",
              "      <td>NaN</td>\n",
              "      <td>NaN</td>\n",
              "      <td>NaN</td>\n",
              "    </tr>\n",
              "    <tr>\n",
              "      <th>1</th>\n",
              "      <td>Top Gun: Maverick</td>\n",
              "      <td>2022</td>\n",
              "      <td>131</td>\n",
              "      <td>8.7</td>\n",
              "      <td>NaN</td>\n",
              "      <td>After more than thirty years of service as one...</td>\n",
              "      <td>PG-13</td>\n",
              "      <td>[131 min]</td>\n",
              "      <td>70,363</td>\n",
              "      <td>NaN</td>\n",
              "      <td>NaN</td>\n",
              "      <td>NaN</td>\n",
              "      <td>NaN</td>\n",
              "    </tr>\n",
              "    <tr>\n",
              "      <th>2</th>\n",
              "      <td>Better Call Saul</td>\n",
              "      <td>2015–2022</td>\n",
              "      <td>46</td>\n",
              "      <td>8.8</td>\n",
              "      <td>NaN</td>\n",
              "      <td>The trials and tribulations of criminal lawyer...</td>\n",
              "      <td>TV-MA</td>\n",
              "      <td>[46 min]</td>\n",
              "      <td>415,053</td>\n",
              "      <td>NaN</td>\n",
              "      <td>NaN</td>\n",
              "      <td>NaN</td>\n",
              "      <td>NaN</td>\n",
              "    </tr>\n",
              "    <tr>\n",
              "      <th>3</th>\n",
              "      <td>Love, Death &amp; Robots</td>\n",
              "      <td>2019–</td>\n",
              "      <td>15</td>\n",
              "      <td>8.4</td>\n",
              "      <td>NaN</td>\n",
              "      <td>A collection of animated short stories that sp...</td>\n",
              "      <td>TV-MA</td>\n",
              "      <td>[15 min]</td>\n",
              "      <td>144,451</td>\n",
              "      <td>NaN</td>\n",
              "      <td>NaN</td>\n",
              "      <td>NaN</td>\n",
              "      <td>NaN</td>\n",
              "    </tr>\n",
              "    <tr>\n",
              "      <th>4</th>\n",
              "      <td>Top Gun</td>\n",
              "      <td>1986</td>\n",
              "      <td>110</td>\n",
              "      <td>6.9</td>\n",
              "      <td>NaN</td>\n",
              "      <td>As students at the United States Navy's elite ...</td>\n",
              "      <td>PG</td>\n",
              "      <td>[110 min]</td>\n",
              "      <td>350,289</td>\n",
              "      <td>$179.80M</td>\n",
              "      <td>NaN</td>\n",
              "      <td>NaN</td>\n",
              "      <td>50</td>\n",
              "    </tr>\n",
              "  </tbody>\n",
              "</table>\n",
              "</div>\n",
              "      <button class=\"colab-df-convert\" onclick=\"convertToInteractive('df-4061fcd5-b9bb-49c0-82be-3d47709b9c0e')\"\n",
              "              title=\"Convert this dataframe to an interactive table.\"\n",
              "              style=\"display:none;\">\n",
              "        \n",
              "  <svg xmlns=\"http://www.w3.org/2000/svg\" height=\"24px\"viewBox=\"0 0 24 24\"\n",
              "       width=\"24px\">\n",
              "    <path d=\"M0 0h24v24H0V0z\" fill=\"none\"/>\n",
              "    <path d=\"M18.56 5.44l.94 2.06.94-2.06 2.06-.94-2.06-.94-.94-2.06-.94 2.06-2.06.94zm-11 1L8.5 8.5l.94-2.06 2.06-.94-2.06-.94L8.5 2.5l-.94 2.06-2.06.94zm10 10l.94 2.06.94-2.06 2.06-.94-2.06-.94-.94-2.06-.94 2.06-2.06.94z\"/><path d=\"M17.41 7.96l-1.37-1.37c-.4-.4-.92-.59-1.43-.59-.52 0-1.04.2-1.43.59L10.3 9.45l-7.72 7.72c-.78.78-.78 2.05 0 2.83L4 21.41c.39.39.9.59 1.41.59.51 0 1.02-.2 1.41-.59l7.78-7.78 2.81-2.81c.8-.78.8-2.07 0-2.86zM5.41 20L4 18.59l7.72-7.72 1.47 1.35L5.41 20z\"/>\n",
              "  </svg>\n",
              "      </button>\n",
              "      \n",
              "  <style>\n",
              "    .colab-df-container {\n",
              "      display:flex;\n",
              "      flex-wrap:wrap;\n",
              "      gap: 12px;\n",
              "    }\n",
              "\n",
              "    .colab-df-convert {\n",
              "      background-color: #E8F0FE;\n",
              "      border: none;\n",
              "      border-radius: 50%;\n",
              "      cursor: pointer;\n",
              "      display: none;\n",
              "      fill: #1967D2;\n",
              "      height: 32px;\n",
              "      padding: 0 0 0 0;\n",
              "      width: 32px;\n",
              "    }\n",
              "\n",
              "    .colab-df-convert:hover {\n",
              "      background-color: #E2EBFA;\n",
              "      box-shadow: 0px 1px 2px rgba(60, 64, 67, 0.3), 0px 1px 3px 1px rgba(60, 64, 67, 0.15);\n",
              "      fill: #174EA6;\n",
              "    }\n",
              "\n",
              "    [theme=dark] .colab-df-convert {\n",
              "      background-color: #3B4455;\n",
              "      fill: #D2E3FC;\n",
              "    }\n",
              "\n",
              "    [theme=dark] .colab-df-convert:hover {\n",
              "      background-color: #434B5C;\n",
              "      box-shadow: 0px 1px 3px 1px rgba(0, 0, 0, 0.15);\n",
              "      filter: drop-shadow(0px 1px 2px rgba(0, 0, 0, 0.3));\n",
              "      fill: #FFFFFF;\n",
              "    }\n",
              "  </style>\n",
              "\n",
              "      <script>\n",
              "        const buttonEl =\n",
              "          document.querySelector('#df-4061fcd5-b9bb-49c0-82be-3d47709b9c0e button.colab-df-convert');\n",
              "        buttonEl.style.display =\n",
              "          google.colab.kernel.accessAllowed ? 'block' : 'none';\n",
              "\n",
              "        async function convertToInteractive(key) {\n",
              "          const element = document.querySelector('#df-4061fcd5-b9bb-49c0-82be-3d47709b9c0e');\n",
              "          const dataTable =\n",
              "            await google.colab.kernel.invokeFunction('convertToInteractive',\n",
              "                                                     [key], {});\n",
              "          if (!dataTable) return;\n",
              "\n",
              "          const docLinkHtml = 'Like what you see? Visit the ' +\n",
              "            '<a target=\"_blank\" href=https://colab.research.google.com/notebooks/data_table.ipynb>data table notebook</a>'\n",
              "            + ' to learn more about interactive tables.';\n",
              "          element.innerHTML = '';\n",
              "          dataTable['output_type'] = 'display_data';\n",
              "          await google.colab.output.renderOutput(dataTable, element);\n",
              "          const docLink = document.createElement('div');\n",
              "          docLink.innerHTML = docLinkHtml;\n",
              "          element.appendChild(docLink);\n",
              "        }\n",
              "      </script>\n",
              "    </div>\n",
              "  </div>\n",
              "  "
            ]
          },
          "metadata": {},
          "execution_count": 169
        }
      ]
    },
    {
      "cell_type": "code",
      "source": [
        "# Creating a column for metascore\n",
        "\n",
        "df_new['meta'] = np.nan"
      ],
      "metadata": {
        "id": "A2S44RYqVpqO"
      },
      "execution_count": 170,
      "outputs": []
    },
    {
      "cell_type": "code",
      "source": [
        "# Assigning value to metascore column\n",
        "\n",
        "for i in range(len(df_new)):\n",
        "  if (pd.notnull(df_new.iloc[i,10])):\n",
        "    df_new.iloc[i,13]=df_new.iloc[i,10]\n",
        "  elif (pd.notnull(df_new.iloc[i,11])):\n",
        "    df_new.iloc[i,13] = df_new.iloc[i,11]\n",
        "  else:\n",
        "    df_new.iloc[i,13] = df_new.iloc[i,12]"
      ],
      "metadata": {
        "id": "5lV0sZUjV5C_"
      },
      "execution_count": 171,
      "outputs": []
    },
    {
      "cell_type": "code",
      "source": [
        "df_new.head()"
      ],
      "metadata": {
        "colab": {
          "base_uri": "https://localhost:8080/",
          "height": 337
        },
        "id": "iytMUS0MWkSH",
        "outputId": "c869934c-32b1-4e62-dc15-ea76c5a171fc"
      },
      "execution_count": 172,
      "outputs": [
        {
          "output_type": "execute_result",
          "data": {
            "text/plain": [
              "                      0       year    2    3    4  \\\n",
              "0       Stranger Things     2016–    51  8.7  NaN   \n",
              "1     Top Gun: Maverick       2022  131  8.7  NaN   \n",
              "2      Better Call Saul  2015–2022   46  8.8  NaN   \n",
              "3  Love, Death & Robots     2019–    15  8.4  NaN   \n",
              "4               Top Gun       1986  110  6.9  NaN   \n",
              "\n",
              "                                                   5      6          7  \\\n",
              "0  When a young boy disappears, his mother, a pol...  TV-14   [51 min]   \n",
              "1  After more than thirty years of service as one...  PG-13  [131 min]   \n",
              "2  The trials and tribulations of criminal lawyer...  TV-MA   [46 min]   \n",
              "3  A collection of animated short stories that sp...  TV-MA   [15 min]   \n",
              "4  As students at the United States Navy's elite ...     PG  [110 min]   \n",
              "\n",
              "           8         9   10   11          12        meta  \n",
              "0  1,009,805       NaN  NaN  NaN         NaN         NaN  \n",
              "1     70,363       NaN  NaN  NaN         NaN         NaN  \n",
              "2    415,053       NaN  NaN  NaN         NaN         NaN  \n",
              "3    144,451       NaN  NaN  NaN         NaN         NaN  \n",
              "4    350,289  $179.80M  NaN  NaN  50          50          "
            ],
            "text/html": [
              "\n",
              "  <div id=\"df-5c61644d-9fc5-491e-92a6-4cb327f58409\">\n",
              "    <div class=\"colab-df-container\">\n",
              "      <div>\n",
              "<style scoped>\n",
              "    .dataframe tbody tr th:only-of-type {\n",
              "        vertical-align: middle;\n",
              "    }\n",
              "\n",
              "    .dataframe tbody tr th {\n",
              "        vertical-align: top;\n",
              "    }\n",
              "\n",
              "    .dataframe thead th {\n",
              "        text-align: right;\n",
              "    }\n",
              "</style>\n",
              "<table border=\"1\" class=\"dataframe\">\n",
              "  <thead>\n",
              "    <tr style=\"text-align: right;\">\n",
              "      <th></th>\n",
              "      <th>0</th>\n",
              "      <th>year</th>\n",
              "      <th>2</th>\n",
              "      <th>3</th>\n",
              "      <th>4</th>\n",
              "      <th>5</th>\n",
              "      <th>6</th>\n",
              "      <th>7</th>\n",
              "      <th>8</th>\n",
              "      <th>9</th>\n",
              "      <th>10</th>\n",
              "      <th>11</th>\n",
              "      <th>12</th>\n",
              "      <th>meta</th>\n",
              "    </tr>\n",
              "  </thead>\n",
              "  <tbody>\n",
              "    <tr>\n",
              "      <th>0</th>\n",
              "      <td>Stranger Things</td>\n",
              "      <td>2016–</td>\n",
              "      <td>51</td>\n",
              "      <td>8.7</td>\n",
              "      <td>NaN</td>\n",
              "      <td>When a young boy disappears, his mother, a pol...</td>\n",
              "      <td>TV-14</td>\n",
              "      <td>[51 min]</td>\n",
              "      <td>1,009,805</td>\n",
              "      <td>NaN</td>\n",
              "      <td>NaN</td>\n",
              "      <td>NaN</td>\n",
              "      <td>NaN</td>\n",
              "      <td>NaN</td>\n",
              "    </tr>\n",
              "    <tr>\n",
              "      <th>1</th>\n",
              "      <td>Top Gun: Maverick</td>\n",
              "      <td>2022</td>\n",
              "      <td>131</td>\n",
              "      <td>8.7</td>\n",
              "      <td>NaN</td>\n",
              "      <td>After more than thirty years of service as one...</td>\n",
              "      <td>PG-13</td>\n",
              "      <td>[131 min]</td>\n",
              "      <td>70,363</td>\n",
              "      <td>NaN</td>\n",
              "      <td>NaN</td>\n",
              "      <td>NaN</td>\n",
              "      <td>NaN</td>\n",
              "      <td>NaN</td>\n",
              "    </tr>\n",
              "    <tr>\n",
              "      <th>2</th>\n",
              "      <td>Better Call Saul</td>\n",
              "      <td>2015–2022</td>\n",
              "      <td>46</td>\n",
              "      <td>8.8</td>\n",
              "      <td>NaN</td>\n",
              "      <td>The trials and tribulations of criminal lawyer...</td>\n",
              "      <td>TV-MA</td>\n",
              "      <td>[46 min]</td>\n",
              "      <td>415,053</td>\n",
              "      <td>NaN</td>\n",
              "      <td>NaN</td>\n",
              "      <td>NaN</td>\n",
              "      <td>NaN</td>\n",
              "      <td>NaN</td>\n",
              "    </tr>\n",
              "    <tr>\n",
              "      <th>3</th>\n",
              "      <td>Love, Death &amp; Robots</td>\n",
              "      <td>2019–</td>\n",
              "      <td>15</td>\n",
              "      <td>8.4</td>\n",
              "      <td>NaN</td>\n",
              "      <td>A collection of animated short stories that sp...</td>\n",
              "      <td>TV-MA</td>\n",
              "      <td>[15 min]</td>\n",
              "      <td>144,451</td>\n",
              "      <td>NaN</td>\n",
              "      <td>NaN</td>\n",
              "      <td>NaN</td>\n",
              "      <td>NaN</td>\n",
              "      <td>NaN</td>\n",
              "    </tr>\n",
              "    <tr>\n",
              "      <th>4</th>\n",
              "      <td>Top Gun</td>\n",
              "      <td>1986</td>\n",
              "      <td>110</td>\n",
              "      <td>6.9</td>\n",
              "      <td>NaN</td>\n",
              "      <td>As students at the United States Navy's elite ...</td>\n",
              "      <td>PG</td>\n",
              "      <td>[110 min]</td>\n",
              "      <td>350,289</td>\n",
              "      <td>$179.80M</td>\n",
              "      <td>NaN</td>\n",
              "      <td>NaN</td>\n",
              "      <td>50</td>\n",
              "      <td>50</td>\n",
              "    </tr>\n",
              "  </tbody>\n",
              "</table>\n",
              "</div>\n",
              "      <button class=\"colab-df-convert\" onclick=\"convertToInteractive('df-5c61644d-9fc5-491e-92a6-4cb327f58409')\"\n",
              "              title=\"Convert this dataframe to an interactive table.\"\n",
              "              style=\"display:none;\">\n",
              "        \n",
              "  <svg xmlns=\"http://www.w3.org/2000/svg\" height=\"24px\"viewBox=\"0 0 24 24\"\n",
              "       width=\"24px\">\n",
              "    <path d=\"M0 0h24v24H0V0z\" fill=\"none\"/>\n",
              "    <path d=\"M18.56 5.44l.94 2.06.94-2.06 2.06-.94-2.06-.94-.94-2.06-.94 2.06-2.06.94zm-11 1L8.5 8.5l.94-2.06 2.06-.94-2.06-.94L8.5 2.5l-.94 2.06-2.06.94zm10 10l.94 2.06.94-2.06 2.06-.94-2.06-.94-.94-2.06-.94 2.06-2.06.94z\"/><path d=\"M17.41 7.96l-1.37-1.37c-.4-.4-.92-.59-1.43-.59-.52 0-1.04.2-1.43.59L10.3 9.45l-7.72 7.72c-.78.78-.78 2.05 0 2.83L4 21.41c.39.39.9.59 1.41.59.51 0 1.02-.2 1.41-.59l7.78-7.78 2.81-2.81c.8-.78.8-2.07 0-2.86zM5.41 20L4 18.59l7.72-7.72 1.47 1.35L5.41 20z\"/>\n",
              "  </svg>\n",
              "      </button>\n",
              "      \n",
              "  <style>\n",
              "    .colab-df-container {\n",
              "      display:flex;\n",
              "      flex-wrap:wrap;\n",
              "      gap: 12px;\n",
              "    }\n",
              "\n",
              "    .colab-df-convert {\n",
              "      background-color: #E8F0FE;\n",
              "      border: none;\n",
              "      border-radius: 50%;\n",
              "      cursor: pointer;\n",
              "      display: none;\n",
              "      fill: #1967D2;\n",
              "      height: 32px;\n",
              "      padding: 0 0 0 0;\n",
              "      width: 32px;\n",
              "    }\n",
              "\n",
              "    .colab-df-convert:hover {\n",
              "      background-color: #E2EBFA;\n",
              "      box-shadow: 0px 1px 2px rgba(60, 64, 67, 0.3), 0px 1px 3px 1px rgba(60, 64, 67, 0.15);\n",
              "      fill: #174EA6;\n",
              "    }\n",
              "\n",
              "    [theme=dark] .colab-df-convert {\n",
              "      background-color: #3B4455;\n",
              "      fill: #D2E3FC;\n",
              "    }\n",
              "\n",
              "    [theme=dark] .colab-df-convert:hover {\n",
              "      background-color: #434B5C;\n",
              "      box-shadow: 0px 1px 3px 1px rgba(0, 0, 0, 0.15);\n",
              "      filter: drop-shadow(0px 1px 2px rgba(0, 0, 0, 0.3));\n",
              "      fill: #FFFFFF;\n",
              "    }\n",
              "  </style>\n",
              "\n",
              "      <script>\n",
              "        const buttonEl =\n",
              "          document.querySelector('#df-5c61644d-9fc5-491e-92a6-4cb327f58409 button.colab-df-convert');\n",
              "        buttonEl.style.display =\n",
              "          google.colab.kernel.accessAllowed ? 'block' : 'none';\n",
              "\n",
              "        async function convertToInteractive(key) {\n",
              "          const element = document.querySelector('#df-5c61644d-9fc5-491e-92a6-4cb327f58409');\n",
              "          const dataTable =\n",
              "            await google.colab.kernel.invokeFunction('convertToInteractive',\n",
              "                                                     [key], {});\n",
              "          if (!dataTable) return;\n",
              "\n",
              "          const docLinkHtml = 'Like what you see? Visit the ' +\n",
              "            '<a target=\"_blank\" href=https://colab.research.google.com/notebooks/data_table.ipynb>data table notebook</a>'\n",
              "            + ' to learn more about interactive tables.';\n",
              "          element.innerHTML = '';\n",
              "          dataTable['output_type'] = 'display_data';\n",
              "          await google.colab.output.renderOutput(dataTable, element);\n",
              "          const docLink = document.createElement('div');\n",
              "          docLink.innerHTML = docLinkHtml;\n",
              "          element.appendChild(docLink);\n",
              "        }\n",
              "      </script>\n",
              "    </div>\n",
              "  </div>\n",
              "  "
            ]
          },
          "metadata": {},
          "execution_count": 172
        }
      ]
    },
    {
      "cell_type": "code",
      "source": [
        "# Dropping metascore columns\n",
        "\n",
        "movies_df = df_new.drop(columns=[4,10,11,12], axis=1)"
      ],
      "metadata": {
        "id": "XEGOIbBSXAso"
      },
      "execution_count": 173,
      "outputs": []
    },
    {
      "cell_type": "code",
      "source": [
        "# Renaming columns\n",
        "\n",
        "movies_df.columns = ['title', 'year', 'duration', 'rating', 'description', 'director', 'actors', 'votes', 'budget', 'metascore']"
      ],
      "metadata": {
        "id": "I-b53Z05XLxr"
      },
      "execution_count": 174,
      "outputs": []
    },
    {
      "cell_type": "code",
      "source": [
        "# Subletting the data to movies subset\n",
        "\n",
        "movies = movies_df[~movies_df['year'].str.contains('-')]\n",
        "movies.head()"
      ],
      "metadata": {
        "colab": {
          "base_uri": "https://localhost:8080/",
          "height": 250
        },
        "id": "yKlUWrq-XhHp",
        "outputId": "8085bd8a-3b48-4925-faf4-56a0e1a44b36"
      },
      "execution_count": 175,
      "outputs": [
        {
          "output_type": "execute_result",
          "data": {
            "text/plain": [
              "                  title       year duration rating  \\\n",
              "0       Stranger Things     2016–        51    8.7   \n",
              "1     Top Gun: Maverick       2022      131    8.7   \n",
              "2      Better Call Saul  2015–2022       46    8.8   \n",
              "3  Love, Death & Robots     2019–        15    8.4   \n",
              "4               Top Gun       1986      110    6.9   \n",
              "\n",
              "                                         description director     actors  \\\n",
              "0  When a young boy disappears, his mother, a pol...    TV-14   [51 min]   \n",
              "1  After more than thirty years of service as one...    PG-13  [131 min]   \n",
              "2  The trials and tribulations of criminal lawyer...    TV-MA   [46 min]   \n",
              "3  A collection of animated short stories that sp...    TV-MA   [15 min]   \n",
              "4  As students at the United States Navy's elite ...       PG  [110 min]   \n",
              "\n",
              "       votes    budget   metascore  \n",
              "0  1,009,805       NaN         NaN  \n",
              "1     70,363       NaN         NaN  \n",
              "2    415,053       NaN         NaN  \n",
              "3    144,451       NaN         NaN  \n",
              "4    350,289  $179.80M  50          "
            ],
            "text/html": [
              "\n",
              "  <div id=\"df-d0cb5b9f-e499-4702-8e58-e95ea1f4ea9d\">\n",
              "    <div class=\"colab-df-container\">\n",
              "      <div>\n",
              "<style scoped>\n",
              "    .dataframe tbody tr th:only-of-type {\n",
              "        vertical-align: middle;\n",
              "    }\n",
              "\n",
              "    .dataframe tbody tr th {\n",
              "        vertical-align: top;\n",
              "    }\n",
              "\n",
              "    .dataframe thead th {\n",
              "        text-align: right;\n",
              "    }\n",
              "</style>\n",
              "<table border=\"1\" class=\"dataframe\">\n",
              "  <thead>\n",
              "    <tr style=\"text-align: right;\">\n",
              "      <th></th>\n",
              "      <th>title</th>\n",
              "      <th>year</th>\n",
              "      <th>duration</th>\n",
              "      <th>rating</th>\n",
              "      <th>description</th>\n",
              "      <th>director</th>\n",
              "      <th>actors</th>\n",
              "      <th>votes</th>\n",
              "      <th>budget</th>\n",
              "      <th>metascore</th>\n",
              "    </tr>\n",
              "  </thead>\n",
              "  <tbody>\n",
              "    <tr>\n",
              "      <th>0</th>\n",
              "      <td>Stranger Things</td>\n",
              "      <td>2016–</td>\n",
              "      <td>51</td>\n",
              "      <td>8.7</td>\n",
              "      <td>When a young boy disappears, his mother, a pol...</td>\n",
              "      <td>TV-14</td>\n",
              "      <td>[51 min]</td>\n",
              "      <td>1,009,805</td>\n",
              "      <td>NaN</td>\n",
              "      <td>NaN</td>\n",
              "    </tr>\n",
              "    <tr>\n",
              "      <th>1</th>\n",
              "      <td>Top Gun: Maverick</td>\n",
              "      <td>2022</td>\n",
              "      <td>131</td>\n",
              "      <td>8.7</td>\n",
              "      <td>After more than thirty years of service as one...</td>\n",
              "      <td>PG-13</td>\n",
              "      <td>[131 min]</td>\n",
              "      <td>70,363</td>\n",
              "      <td>NaN</td>\n",
              "      <td>NaN</td>\n",
              "    </tr>\n",
              "    <tr>\n",
              "      <th>2</th>\n",
              "      <td>Better Call Saul</td>\n",
              "      <td>2015–2022</td>\n",
              "      <td>46</td>\n",
              "      <td>8.8</td>\n",
              "      <td>The trials and tribulations of criminal lawyer...</td>\n",
              "      <td>TV-MA</td>\n",
              "      <td>[46 min]</td>\n",
              "      <td>415,053</td>\n",
              "      <td>NaN</td>\n",
              "      <td>NaN</td>\n",
              "    </tr>\n",
              "    <tr>\n",
              "      <th>3</th>\n",
              "      <td>Love, Death &amp; Robots</td>\n",
              "      <td>2019–</td>\n",
              "      <td>15</td>\n",
              "      <td>8.4</td>\n",
              "      <td>A collection of animated short stories that sp...</td>\n",
              "      <td>TV-MA</td>\n",
              "      <td>[15 min]</td>\n",
              "      <td>144,451</td>\n",
              "      <td>NaN</td>\n",
              "      <td>NaN</td>\n",
              "    </tr>\n",
              "    <tr>\n",
              "      <th>4</th>\n",
              "      <td>Top Gun</td>\n",
              "      <td>1986</td>\n",
              "      <td>110</td>\n",
              "      <td>6.9</td>\n",
              "      <td>As students at the United States Navy's elite ...</td>\n",
              "      <td>PG</td>\n",
              "      <td>[110 min]</td>\n",
              "      <td>350,289</td>\n",
              "      <td>$179.80M</td>\n",
              "      <td>50</td>\n",
              "    </tr>\n",
              "  </tbody>\n",
              "</table>\n",
              "</div>\n",
              "      <button class=\"colab-df-convert\" onclick=\"convertToInteractive('df-d0cb5b9f-e499-4702-8e58-e95ea1f4ea9d')\"\n",
              "              title=\"Convert this dataframe to an interactive table.\"\n",
              "              style=\"display:none;\">\n",
              "        \n",
              "  <svg xmlns=\"http://www.w3.org/2000/svg\" height=\"24px\"viewBox=\"0 0 24 24\"\n",
              "       width=\"24px\">\n",
              "    <path d=\"M0 0h24v24H0V0z\" fill=\"none\"/>\n",
              "    <path d=\"M18.56 5.44l.94 2.06.94-2.06 2.06-.94-2.06-.94-.94-2.06-.94 2.06-2.06.94zm-11 1L8.5 8.5l.94-2.06 2.06-.94-2.06-.94L8.5 2.5l-.94 2.06-2.06.94zm10 10l.94 2.06.94-2.06 2.06-.94-2.06-.94-.94-2.06-.94 2.06-2.06.94z\"/><path d=\"M17.41 7.96l-1.37-1.37c-.4-.4-.92-.59-1.43-.59-.52 0-1.04.2-1.43.59L10.3 9.45l-7.72 7.72c-.78.78-.78 2.05 0 2.83L4 21.41c.39.39.9.59 1.41.59.51 0 1.02-.2 1.41-.59l7.78-7.78 2.81-2.81c.8-.78.8-2.07 0-2.86zM5.41 20L4 18.59l7.72-7.72 1.47 1.35L5.41 20z\"/>\n",
              "  </svg>\n",
              "      </button>\n",
              "      \n",
              "  <style>\n",
              "    .colab-df-container {\n",
              "      display:flex;\n",
              "      flex-wrap:wrap;\n",
              "      gap: 12px;\n",
              "    }\n",
              "\n",
              "    .colab-df-convert {\n",
              "      background-color: #E8F0FE;\n",
              "      border: none;\n",
              "      border-radius: 50%;\n",
              "      cursor: pointer;\n",
              "      display: none;\n",
              "      fill: #1967D2;\n",
              "      height: 32px;\n",
              "      padding: 0 0 0 0;\n",
              "      width: 32px;\n",
              "    }\n",
              "\n",
              "    .colab-df-convert:hover {\n",
              "      background-color: #E2EBFA;\n",
              "      box-shadow: 0px 1px 2px rgba(60, 64, 67, 0.3), 0px 1px 3px 1px rgba(60, 64, 67, 0.15);\n",
              "      fill: #174EA6;\n",
              "    }\n",
              "\n",
              "    [theme=dark] .colab-df-convert {\n",
              "      background-color: #3B4455;\n",
              "      fill: #D2E3FC;\n",
              "    }\n",
              "\n",
              "    [theme=dark] .colab-df-convert:hover {\n",
              "      background-color: #434B5C;\n",
              "      box-shadow: 0px 1px 3px 1px rgba(0, 0, 0, 0.15);\n",
              "      filter: drop-shadow(0px 1px 2px rgba(0, 0, 0, 0.3));\n",
              "      fill: #FFFFFF;\n",
              "    }\n",
              "  </style>\n",
              "\n",
              "      <script>\n",
              "        const buttonEl =\n",
              "          document.querySelector('#df-d0cb5b9f-e499-4702-8e58-e95ea1f4ea9d button.colab-df-convert');\n",
              "        buttonEl.style.display =\n",
              "          google.colab.kernel.accessAllowed ? 'block' : 'none';\n",
              "\n",
              "        async function convertToInteractive(key) {\n",
              "          const element = document.querySelector('#df-d0cb5b9f-e499-4702-8e58-e95ea1f4ea9d');\n",
              "          const dataTable =\n",
              "            await google.colab.kernel.invokeFunction('convertToInteractive',\n",
              "                                                     [key], {});\n",
              "          if (!dataTable) return;\n",
              "\n",
              "          const docLinkHtml = 'Like what you see? Visit the ' +\n",
              "            '<a target=\"_blank\" href=https://colab.research.google.com/notebooks/data_table.ipynb>data table notebook</a>'\n",
              "            + ' to learn more about interactive tables.';\n",
              "          element.innerHTML = '';\n",
              "          dataTable['output_type'] = 'display_data';\n",
              "          await google.colab.output.renderOutput(dataTable, element);\n",
              "          const docLink = document.createElement('div');\n",
              "          docLink.innerHTML = docLinkHtml;\n",
              "          element.appendChild(docLink);\n",
              "        }\n",
              "      </script>\n",
              "    </div>\n",
              "  </div>\n",
              "  "
            ]
          },
          "metadata": {},
          "execution_count": 175
        }
      ]
    },
    {
      "cell_type": "code",
      "source": [
        "# Getting last 4 numbers of year\n",
        "for i in range(len(movies)):\n",
        "  movies.iloc[i,1]=movies.iloc[i,1][-4:]"
      ],
      "metadata": {
        "id": "_BCOLNaDXt3K"
      },
      "execution_count": 176,
      "outputs": []
    },
    {
      "cell_type": "markdown",
      "source": [
        "# Importing 2nd dataset"
      ],
      "metadata": {
        "id": "yZNvuK15Y6YF"
      }
    },
    {
      "cell_type": "code",
      "source": [
        "movies_kaggle = pd.read_csv('/content/drive/MyDrive/Python Projects/movies_metadata.csv')"
      ],
      "metadata": {
        "colab": {
          "base_uri": "https://localhost:8080/"
        },
        "id": "MTr1DOC_Y55e",
        "outputId": "ee26a542-122f-4697-ea72-dc8bc0b534ca"
      },
      "execution_count": 177,
      "outputs": [
        {
          "output_type": "stream",
          "name": "stderr",
          "text": [
            "/usr/local/lib/python3.7/dist-packages/IPython/core/interactiveshell.py:2882: DtypeWarning: Columns (10) have mixed types.Specify dtype option on import or set low_memory=False.\n",
            "  exec(code_obj, self.user_global_ns, self.user_ns)\n"
          ]
        }
      ]
    },
    {
      "cell_type": "code",
      "source": [
        "movies_kaggle.head()"
      ],
      "metadata": {
        "colab": {
          "base_uri": "https://localhost:8080/",
          "height": 751
        },
        "id": "cs-qcGvlZmpe",
        "outputId": "f1c22a3a-7ace-4546-e399-d448dd82189a"
      },
      "execution_count": 178,
      "outputs": [
        {
          "output_type": "execute_result",
          "data": {
            "text/plain": [
              "   adult                              belongs_to_collection    budget  \\\n",
              "0  False  {'id': 10194, 'name': 'Toy Story Collection', ...  30000000   \n",
              "1  False                                                NaN  65000000   \n",
              "2  False  {'id': 119050, 'name': 'Grumpy Old Men Collect...         0   \n",
              "3  False                                                NaN  16000000   \n",
              "4  False  {'id': 96871, 'name': 'Father of the Bride Col...         0   \n",
              "\n",
              "                                              genres  \\\n",
              "0  [{'id': 16, 'name': 'Animation'}, {'id': 35, '...   \n",
              "1  [{'id': 12, 'name': 'Adventure'}, {'id': 14, '...   \n",
              "2  [{'id': 10749, 'name': 'Romance'}, {'id': 35, ...   \n",
              "3  [{'id': 35, 'name': 'Comedy'}, {'id': 18, 'nam...   \n",
              "4                     [{'id': 35, 'name': 'Comedy'}]   \n",
              "\n",
              "                               homepage     id    imdb_id original_language  \\\n",
              "0  http://toystory.disney.com/toy-story    862  tt0114709                en   \n",
              "1                                   NaN   8844  tt0113497                en   \n",
              "2                                   NaN  15602  tt0113228                en   \n",
              "3                                   NaN  31357  tt0114885                en   \n",
              "4                                   NaN  11862  tt0113041                en   \n",
              "\n",
              "                original_title  \\\n",
              "0                    Toy Story   \n",
              "1                      Jumanji   \n",
              "2             Grumpier Old Men   \n",
              "3            Waiting to Exhale   \n",
              "4  Father of the Bride Part II   \n",
              "\n",
              "                                            overview  ... release_date  \\\n",
              "0  Led by Woody, Andy's toys live happily in his ...  ...   1995-10-30   \n",
              "1  When siblings Judy and Peter discover an encha...  ...   1995-12-15   \n",
              "2  A family wedding reignites the ancient feud be...  ...   1995-12-22   \n",
              "3  Cheated on, mistreated and stepped on, the wom...  ...   1995-12-22   \n",
              "4  Just when George Banks has recovered from his ...  ...   1995-02-10   \n",
              "\n",
              "       revenue runtime                                   spoken_languages  \\\n",
              "0  373554033.0    81.0           [{'iso_639_1': 'en', 'name': 'English'}]   \n",
              "1  262797249.0   104.0  [{'iso_639_1': 'en', 'name': 'English'}, {'iso...   \n",
              "2          0.0   101.0           [{'iso_639_1': 'en', 'name': 'English'}]   \n",
              "3   81452156.0   127.0           [{'iso_639_1': 'en', 'name': 'English'}]   \n",
              "4   76578911.0   106.0           [{'iso_639_1': 'en', 'name': 'English'}]   \n",
              "\n",
              "     status                                            tagline  \\\n",
              "0  Released                                                NaN   \n",
              "1  Released          Roll the dice and unleash the excitement!   \n",
              "2  Released  Still Yelling. Still Fighting. Still Ready for...   \n",
              "3  Released  Friends are the people who let you be yourself...   \n",
              "4  Released  Just When His World Is Back To Normal... He's ...   \n",
              "\n",
              "                         title  video vote_average vote_count  \n",
              "0                    Toy Story  False          7.7     5415.0  \n",
              "1                      Jumanji  False          6.9     2413.0  \n",
              "2             Grumpier Old Men  False          6.5       92.0  \n",
              "3            Waiting to Exhale  False          6.1       34.0  \n",
              "4  Father of the Bride Part II  False          5.7      173.0  \n",
              "\n",
              "[5 rows x 24 columns]"
            ],
            "text/html": [
              "\n",
              "  <div id=\"df-65cd404e-a3c6-49bd-a9b7-1d5f373ccf2c\">\n",
              "    <div class=\"colab-df-container\">\n",
              "      <div>\n",
              "<style scoped>\n",
              "    .dataframe tbody tr th:only-of-type {\n",
              "        vertical-align: middle;\n",
              "    }\n",
              "\n",
              "    .dataframe tbody tr th {\n",
              "        vertical-align: top;\n",
              "    }\n",
              "\n",
              "    .dataframe thead th {\n",
              "        text-align: right;\n",
              "    }\n",
              "</style>\n",
              "<table border=\"1\" class=\"dataframe\">\n",
              "  <thead>\n",
              "    <tr style=\"text-align: right;\">\n",
              "      <th></th>\n",
              "      <th>adult</th>\n",
              "      <th>belongs_to_collection</th>\n",
              "      <th>budget</th>\n",
              "      <th>genres</th>\n",
              "      <th>homepage</th>\n",
              "      <th>id</th>\n",
              "      <th>imdb_id</th>\n",
              "      <th>original_language</th>\n",
              "      <th>original_title</th>\n",
              "      <th>overview</th>\n",
              "      <th>...</th>\n",
              "      <th>release_date</th>\n",
              "      <th>revenue</th>\n",
              "      <th>runtime</th>\n",
              "      <th>spoken_languages</th>\n",
              "      <th>status</th>\n",
              "      <th>tagline</th>\n",
              "      <th>title</th>\n",
              "      <th>video</th>\n",
              "      <th>vote_average</th>\n",
              "      <th>vote_count</th>\n",
              "    </tr>\n",
              "  </thead>\n",
              "  <tbody>\n",
              "    <tr>\n",
              "      <th>0</th>\n",
              "      <td>False</td>\n",
              "      <td>{'id': 10194, 'name': 'Toy Story Collection', ...</td>\n",
              "      <td>30000000</td>\n",
              "      <td>[{'id': 16, 'name': 'Animation'}, {'id': 35, '...</td>\n",
              "      <td>http://toystory.disney.com/toy-story</td>\n",
              "      <td>862</td>\n",
              "      <td>tt0114709</td>\n",
              "      <td>en</td>\n",
              "      <td>Toy Story</td>\n",
              "      <td>Led by Woody, Andy's toys live happily in his ...</td>\n",
              "      <td>...</td>\n",
              "      <td>1995-10-30</td>\n",
              "      <td>373554033.0</td>\n",
              "      <td>81.0</td>\n",
              "      <td>[{'iso_639_1': 'en', 'name': 'English'}]</td>\n",
              "      <td>Released</td>\n",
              "      <td>NaN</td>\n",
              "      <td>Toy Story</td>\n",
              "      <td>False</td>\n",
              "      <td>7.7</td>\n",
              "      <td>5415.0</td>\n",
              "    </tr>\n",
              "    <tr>\n",
              "      <th>1</th>\n",
              "      <td>False</td>\n",
              "      <td>NaN</td>\n",
              "      <td>65000000</td>\n",
              "      <td>[{'id': 12, 'name': 'Adventure'}, {'id': 14, '...</td>\n",
              "      <td>NaN</td>\n",
              "      <td>8844</td>\n",
              "      <td>tt0113497</td>\n",
              "      <td>en</td>\n",
              "      <td>Jumanji</td>\n",
              "      <td>When siblings Judy and Peter discover an encha...</td>\n",
              "      <td>...</td>\n",
              "      <td>1995-12-15</td>\n",
              "      <td>262797249.0</td>\n",
              "      <td>104.0</td>\n",
              "      <td>[{'iso_639_1': 'en', 'name': 'English'}, {'iso...</td>\n",
              "      <td>Released</td>\n",
              "      <td>Roll the dice and unleash the excitement!</td>\n",
              "      <td>Jumanji</td>\n",
              "      <td>False</td>\n",
              "      <td>6.9</td>\n",
              "      <td>2413.0</td>\n",
              "    </tr>\n",
              "    <tr>\n",
              "      <th>2</th>\n",
              "      <td>False</td>\n",
              "      <td>{'id': 119050, 'name': 'Grumpy Old Men Collect...</td>\n",
              "      <td>0</td>\n",
              "      <td>[{'id': 10749, 'name': 'Romance'}, {'id': 35, ...</td>\n",
              "      <td>NaN</td>\n",
              "      <td>15602</td>\n",
              "      <td>tt0113228</td>\n",
              "      <td>en</td>\n",
              "      <td>Grumpier Old Men</td>\n",
              "      <td>A family wedding reignites the ancient feud be...</td>\n",
              "      <td>...</td>\n",
              "      <td>1995-12-22</td>\n",
              "      <td>0.0</td>\n",
              "      <td>101.0</td>\n",
              "      <td>[{'iso_639_1': 'en', 'name': 'English'}]</td>\n",
              "      <td>Released</td>\n",
              "      <td>Still Yelling. Still Fighting. Still Ready for...</td>\n",
              "      <td>Grumpier Old Men</td>\n",
              "      <td>False</td>\n",
              "      <td>6.5</td>\n",
              "      <td>92.0</td>\n",
              "    </tr>\n",
              "    <tr>\n",
              "      <th>3</th>\n",
              "      <td>False</td>\n",
              "      <td>NaN</td>\n",
              "      <td>16000000</td>\n",
              "      <td>[{'id': 35, 'name': 'Comedy'}, {'id': 18, 'nam...</td>\n",
              "      <td>NaN</td>\n",
              "      <td>31357</td>\n",
              "      <td>tt0114885</td>\n",
              "      <td>en</td>\n",
              "      <td>Waiting to Exhale</td>\n",
              "      <td>Cheated on, mistreated and stepped on, the wom...</td>\n",
              "      <td>...</td>\n",
              "      <td>1995-12-22</td>\n",
              "      <td>81452156.0</td>\n",
              "      <td>127.0</td>\n",
              "      <td>[{'iso_639_1': 'en', 'name': 'English'}]</td>\n",
              "      <td>Released</td>\n",
              "      <td>Friends are the people who let you be yourself...</td>\n",
              "      <td>Waiting to Exhale</td>\n",
              "      <td>False</td>\n",
              "      <td>6.1</td>\n",
              "      <td>34.0</td>\n",
              "    </tr>\n",
              "    <tr>\n",
              "      <th>4</th>\n",
              "      <td>False</td>\n",
              "      <td>{'id': 96871, 'name': 'Father of the Bride Col...</td>\n",
              "      <td>0</td>\n",
              "      <td>[{'id': 35, 'name': 'Comedy'}]</td>\n",
              "      <td>NaN</td>\n",
              "      <td>11862</td>\n",
              "      <td>tt0113041</td>\n",
              "      <td>en</td>\n",
              "      <td>Father of the Bride Part II</td>\n",
              "      <td>Just when George Banks has recovered from his ...</td>\n",
              "      <td>...</td>\n",
              "      <td>1995-02-10</td>\n",
              "      <td>76578911.0</td>\n",
              "      <td>106.0</td>\n",
              "      <td>[{'iso_639_1': 'en', 'name': 'English'}]</td>\n",
              "      <td>Released</td>\n",
              "      <td>Just When His World Is Back To Normal... He's ...</td>\n",
              "      <td>Father of the Bride Part II</td>\n",
              "      <td>False</td>\n",
              "      <td>5.7</td>\n",
              "      <td>173.0</td>\n",
              "    </tr>\n",
              "  </tbody>\n",
              "</table>\n",
              "<p>5 rows × 24 columns</p>\n",
              "</div>\n",
              "      <button class=\"colab-df-convert\" onclick=\"convertToInteractive('df-65cd404e-a3c6-49bd-a9b7-1d5f373ccf2c')\"\n",
              "              title=\"Convert this dataframe to an interactive table.\"\n",
              "              style=\"display:none;\">\n",
              "        \n",
              "  <svg xmlns=\"http://www.w3.org/2000/svg\" height=\"24px\"viewBox=\"0 0 24 24\"\n",
              "       width=\"24px\">\n",
              "    <path d=\"M0 0h24v24H0V0z\" fill=\"none\"/>\n",
              "    <path d=\"M18.56 5.44l.94 2.06.94-2.06 2.06-.94-2.06-.94-.94-2.06-.94 2.06-2.06.94zm-11 1L8.5 8.5l.94-2.06 2.06-.94-2.06-.94L8.5 2.5l-.94 2.06-2.06.94zm10 10l.94 2.06.94-2.06 2.06-.94-2.06-.94-.94-2.06-.94 2.06-2.06.94z\"/><path d=\"M17.41 7.96l-1.37-1.37c-.4-.4-.92-.59-1.43-.59-.52 0-1.04.2-1.43.59L10.3 9.45l-7.72 7.72c-.78.78-.78 2.05 0 2.83L4 21.41c.39.39.9.59 1.41.59.51 0 1.02-.2 1.41-.59l7.78-7.78 2.81-2.81c.8-.78.8-2.07 0-2.86zM5.41 20L4 18.59l7.72-7.72 1.47 1.35L5.41 20z\"/>\n",
              "  </svg>\n",
              "      </button>\n",
              "      \n",
              "  <style>\n",
              "    .colab-df-container {\n",
              "      display:flex;\n",
              "      flex-wrap:wrap;\n",
              "      gap: 12px;\n",
              "    }\n",
              "\n",
              "    .colab-df-convert {\n",
              "      background-color: #E8F0FE;\n",
              "      border: none;\n",
              "      border-radius: 50%;\n",
              "      cursor: pointer;\n",
              "      display: none;\n",
              "      fill: #1967D2;\n",
              "      height: 32px;\n",
              "      padding: 0 0 0 0;\n",
              "      width: 32px;\n",
              "    }\n",
              "\n",
              "    .colab-df-convert:hover {\n",
              "      background-color: #E2EBFA;\n",
              "      box-shadow: 0px 1px 2px rgba(60, 64, 67, 0.3), 0px 1px 3px 1px rgba(60, 64, 67, 0.15);\n",
              "      fill: #174EA6;\n",
              "    }\n",
              "\n",
              "    [theme=dark] .colab-df-convert {\n",
              "      background-color: #3B4455;\n",
              "      fill: #D2E3FC;\n",
              "    }\n",
              "\n",
              "    [theme=dark] .colab-df-convert:hover {\n",
              "      background-color: #434B5C;\n",
              "      box-shadow: 0px 1px 3px 1px rgba(0, 0, 0, 0.15);\n",
              "      filter: drop-shadow(0px 1px 2px rgba(0, 0, 0, 0.3));\n",
              "      fill: #FFFFFF;\n",
              "    }\n",
              "  </style>\n",
              "\n",
              "      <script>\n",
              "        const buttonEl =\n",
              "          document.querySelector('#df-65cd404e-a3c6-49bd-a9b7-1d5f373ccf2c button.colab-df-convert');\n",
              "        buttonEl.style.display =\n",
              "          google.colab.kernel.accessAllowed ? 'block' : 'none';\n",
              "\n",
              "        async function convertToInteractive(key) {\n",
              "          const element = document.querySelector('#df-65cd404e-a3c6-49bd-a9b7-1d5f373ccf2c');\n",
              "          const dataTable =\n",
              "            await google.colab.kernel.invokeFunction('convertToInteractive',\n",
              "                                                     [key], {});\n",
              "          if (!dataTable) return;\n",
              "\n",
              "          const docLinkHtml = 'Like what you see? Visit the ' +\n",
              "            '<a target=\"_blank\" href=https://colab.research.google.com/notebooks/data_table.ipynb>data table notebook</a>'\n",
              "            + ' to learn more about interactive tables.';\n",
              "          element.innerHTML = '';\n",
              "          dataTable['output_type'] = 'display_data';\n",
              "          await google.colab.output.renderOutput(dataTable, element);\n",
              "          const docLink = document.createElement('div');\n",
              "          docLink.innerHTML = docLinkHtml;\n",
              "          element.appendChild(docLink);\n",
              "        }\n",
              "      </script>\n",
              "    </div>\n",
              "  </div>\n",
              "  "
            ]
          },
          "metadata": {},
          "execution_count": 178
        }
      ]
    },
    {
      "cell_type": "code",
      "source": [
        "movies_kaggle.columns"
      ],
      "metadata": {
        "colab": {
          "base_uri": "https://localhost:8080/"
        },
        "id": "8jlVAqvWZq2C",
        "outputId": "8a1f57b7-6cc3-4ccd-9223-7055fed99556"
      },
      "execution_count": 179,
      "outputs": [
        {
          "output_type": "execute_result",
          "data": {
            "text/plain": [
              "Index(['adult', 'belongs_to_collection', 'budget', 'genres', 'homepage', 'id',\n",
              "       'imdb_id', 'original_language', 'original_title', 'overview',\n",
              "       'popularity', 'poster_path', 'production_companies',\n",
              "       'production_countries', 'release_date', 'revenue', 'runtime',\n",
              "       'spoken_languages', 'status', 'tagline', 'title', 'video',\n",
              "       'vote_average', 'vote_count'],\n",
              "      dtype='object')"
            ]
          },
          "metadata": {},
          "execution_count": 179
        }
      ]
    },
    {
      "cell_type": "code",
      "source": [
        "# Dropping columns that will not be used\n",
        "\n",
        "movies_kaggle = movies_kaggle.drop(columns=['belongs_to_collection', 'budget', 'homepage', 'id', 'imdb_id',\n",
        "                                            'original_title', 'overview', 'runtime', 'spoken_languages',\n",
        "                                            'status', 'tagline', 'video',\n",
        "                                            'vote_average', 'vote_count'], axis = 1)"
      ],
      "metadata": {
        "id": "K9NAxkAxZt5_"
      },
      "execution_count": 180,
      "outputs": []
    },
    {
      "cell_type": "code",
      "source": [
        "# Removing duplicates from the title column\n",
        "\n",
        "movies_kaggle=movies_kaggle.drop_duplicates(subset='title', keep=False)"
      ],
      "metadata": {
        "id": "YOY2LVM7aLsm"
      },
      "execution_count": 181,
      "outputs": []
    },
    {
      "cell_type": "code",
      "source": [
        "# Getting last 4 numbers of year\n",
        "\n",
        "for i in range(len(movies_kaggle)):\n",
        "  if (pd.notnull(movies_kaggle.iloc[i,7])):\n",
        "    movies_kaggle.iloc[i,7]=movies_kaggle.iloc[i,7][0:4]"
      ],
      "metadata": {
        "id": "9eaP2xjMaZv9"
      },
      "execution_count": 182,
      "outputs": []
    },
    {
      "cell_type": "code",
      "source": [
        "# Joining the two dataframes\n",
        "\n",
        "movies_ratings = pd.merge(movies, movies_kaggle, left_on=['title', 'year'], right_on=['title', 'release_date'])"
      ],
      "metadata": {
        "id": "fgXJEOROa7YI"
      },
      "execution_count": 183,
      "outputs": []
    },
    {
      "cell_type": "code",
      "source": [
        "len(movies_ratings)"
      ],
      "metadata": {
        "colab": {
          "base_uri": "https://localhost:8080/"
        },
        "id": "nZZn5Q6RdN9f",
        "outputId": "78168e33-4de1-461a-e920-cc42520eabfa"
      },
      "execution_count": 184,
      "outputs": [
        {
          "output_type": "execute_result",
          "data": {
            "text/plain": [
              "1491"
            ]
          },
          "metadata": {},
          "execution_count": 184
        }
      ]
    },
    {
      "cell_type": "code",
      "source": [
        "movies_ratings.columns"
      ],
      "metadata": {
        "colab": {
          "base_uri": "https://localhost:8080/"
        },
        "id": "L9ikw0QpdbtY",
        "outputId": "2902b62e-de16-4f22-e8a5-2747328135e3"
      },
      "execution_count": 185,
      "outputs": [
        {
          "output_type": "execute_result",
          "data": {
            "text/plain": [
              "Index(['title', 'year', 'duration', 'rating', 'description', 'director',\n",
              "       'actors', 'votes', 'budget', 'metascore', 'adult', 'genres',\n",
              "       'original_language', 'popularity', 'poster_path',\n",
              "       'production_companies', 'production_countries', 'release_date',\n",
              "       'revenue'],\n",
              "      dtype='object')"
            ]
          },
          "metadata": {},
          "execution_count": 185
        }
      ]
    },
    {
      "cell_type": "code",
      "source": [
        "movies_ratings = movies_ratings.drop(columns='release_date', axis=1)"
      ],
      "metadata": {
        "id": "7HmZ_82uhrRr"
      },
      "execution_count": 186,
      "outputs": []
    },
    {
      "cell_type": "code",
      "source": [
        "# Checking for null values\n",
        "\n",
        "movies_ratings.isnull().sum()"
      ],
      "metadata": {
        "colab": {
          "base_uri": "https://localhost:8080/"
        },
        "id": "kwpIbvtzhxnD",
        "outputId": "5cd24487-f8b8-4bbf-ebb4-305af763b0bf"
      },
      "execution_count": 187,
      "outputs": [
        {
          "output_type": "execute_result",
          "data": {
            "text/plain": [
              "title                     0\n",
              "year                      0\n",
              "duration                  0\n",
              "rating                    0\n",
              "description               0\n",
              "director                  0\n",
              "actors                    0\n",
              "votes                     0\n",
              "budget                   69\n",
              "metascore               987\n",
              "adult                     0\n",
              "genres                    0\n",
              "original_language         0\n",
              "popularity                0\n",
              "poster_path               0\n",
              "production_companies      0\n",
              "production_countries      0\n",
              "revenue                   0\n",
              "dtype: int64"
            ]
          },
          "metadata": {},
          "execution_count": 187
        }
      ]
    },
    {
      "cell_type": "code",
      "source": [
        "movies_ratings['duration'] = movies_ratings['duration'].astype(str).astype(float)\n",
        "movies_ratings['rating'] = movies_ratings['rating'].astype(str).astype(float)\n",
        "movies_ratings['metascore'] = movies_ratings['metascore'].astype(str).astype(float)\n",
        "movies_ratings['popularity'] = movies_ratings['popularity'].astype(str).astype(float)\n",
        "movies_ratings['revenue'] = movies_ratings['revenue'].astype(str).astype(float)"
      ],
      "metadata": {
        "id": "miSFq5mnh5xX"
      },
      "execution_count": 188,
      "outputs": []
    },
    {
      "cell_type": "code",
      "source": [
        "# Cleaning the budget column\n",
        "\n",
        "for i in range(len(movies_ratings)):\n",
        "  if(pd.notnull(movies_ratings.iloc[i,8])):\n",
        "    movies_ratings.iloc[i,8]=movies_ratings.iloc[i,8].strip('$').strip('M')"
      ],
      "metadata": {
        "id": "ULRK2b5eiiv0"
      },
      "execution_count": 189,
      "outputs": []
    },
    {
      "cell_type": "code",
      "source": [
        "movies_ratings['budget'] = movies_ratings['budget'].astype(str).astype(float)"
      ],
      "metadata": {
        "id": "f8aTk7Z9i6N0"
      },
      "execution_count": 190,
      "outputs": []
    },
    {
      "cell_type": "code",
      "source": [
        "movies_ratings['budget']=movies_ratings['budget']*1000000"
      ],
      "metadata": {
        "id": "xCFkL7uojCZP"
      },
      "execution_count": 191,
      "outputs": []
    },
    {
      "cell_type": "code",
      "source": [
        "movies_ratings['title']=movies_ratings['title'].astype('str')\n",
        "movies_ratings['year']=movies_ratings['year'].astype('str').astype('category')\n",
        "movies_ratings['director']=movies_ratings['director'].astype('str').astype('category')\n",
        "movies_ratings['adult']=movies_ratings['adult'].astype('str').astype('category')\n",
        "movies_ratings['original_language']=movies_ratings['original_language'].astype('str').astype('category')"
      ],
      "metadata": {
        "id": "85lUC6K_jJbZ"
      },
      "execution_count": 192,
      "outputs": []
    },
    {
      "cell_type": "code",
      "source": [
        "# Dropping null values\n",
        "\n",
        "movies_ratings = movies_ratings.dropna(how='any', axis=0)"
      ],
      "metadata": {
        "id": "zEj5trx0jzv5"
      },
      "execution_count": 193,
      "outputs": []
    },
    {
      "cell_type": "markdown",
      "source": [
        "# Exploratory Data Analysis"
      ],
      "metadata": {
        "id": "aqro27aCj6cJ"
      }
    },
    {
      "cell_type": "code",
      "source": [
        "movies_ratings.describe()"
      ],
      "metadata": {
        "colab": {
          "base_uri": "https://localhost:8080/",
          "height": 300
        },
        "id": "_kBso8KIj-fN",
        "outputId": "bac9d0e1-a511-4958-f4b4-ab168c8848ba"
      },
      "execution_count": 194,
      "outputs": [
        {
          "output_type": "execute_result",
          "data": {
            "text/plain": [
              "         duration      rating        budget   metascore  popularity  \\\n",
              "count  496.000000  496.000000  4.960000e+02  496.000000  496.000000   \n",
              "mean   113.629032    6.577016  8.536762e+07   50.790323   13.690211   \n",
              "std     18.297747    0.655201  8.027488e+07    5.873789   25.089837   \n",
              "min     81.000000    3.400000  2.000000e+04   40.000000    0.393865   \n",
              "25%    100.000000    6.200000  3.154250e+07   46.000000    8.576823   \n",
              "50%    110.000000    6.600000  6.115500e+07   51.000000   11.073994   \n",
              "75%    125.000000    7.000000  1.170825e+08   56.000000   14.417171   \n",
              "max    191.000000    8.600000  6.522700e+08   60.000000  547.488298   \n",
              "\n",
              "            revenue  \n",
              "count  4.960000e+02  \n",
              "mean   1.934108e+08  \n",
              "std    2.210584e+08  \n",
              "min    0.000000e+00  \n",
              "25%    4.390872e+07  \n",
              "50%    1.229171e+08  \n",
              "75%    2.589993e+08  \n",
              "max    1.513529e+09  "
            ],
            "text/html": [
              "\n",
              "  <div id=\"df-93152fda-49a6-4192-828f-517214720f18\">\n",
              "    <div class=\"colab-df-container\">\n",
              "      <div>\n",
              "<style scoped>\n",
              "    .dataframe tbody tr th:only-of-type {\n",
              "        vertical-align: middle;\n",
              "    }\n",
              "\n",
              "    .dataframe tbody tr th {\n",
              "        vertical-align: top;\n",
              "    }\n",
              "\n",
              "    .dataframe thead th {\n",
              "        text-align: right;\n",
              "    }\n",
              "</style>\n",
              "<table border=\"1\" class=\"dataframe\">\n",
              "  <thead>\n",
              "    <tr style=\"text-align: right;\">\n",
              "      <th></th>\n",
              "      <th>duration</th>\n",
              "      <th>rating</th>\n",
              "      <th>budget</th>\n",
              "      <th>metascore</th>\n",
              "      <th>popularity</th>\n",
              "      <th>revenue</th>\n",
              "    </tr>\n",
              "  </thead>\n",
              "  <tbody>\n",
              "    <tr>\n",
              "      <th>count</th>\n",
              "      <td>496.000000</td>\n",
              "      <td>496.000000</td>\n",
              "      <td>4.960000e+02</td>\n",
              "      <td>496.000000</td>\n",
              "      <td>496.000000</td>\n",
              "      <td>4.960000e+02</td>\n",
              "    </tr>\n",
              "    <tr>\n",
              "      <th>mean</th>\n",
              "      <td>113.629032</td>\n",
              "      <td>6.577016</td>\n",
              "      <td>8.536762e+07</td>\n",
              "      <td>50.790323</td>\n",
              "      <td>13.690211</td>\n",
              "      <td>1.934108e+08</td>\n",
              "    </tr>\n",
              "    <tr>\n",
              "      <th>std</th>\n",
              "      <td>18.297747</td>\n",
              "      <td>0.655201</td>\n",
              "      <td>8.027488e+07</td>\n",
              "      <td>5.873789</td>\n",
              "      <td>25.089837</td>\n",
              "      <td>2.210584e+08</td>\n",
              "    </tr>\n",
              "    <tr>\n",
              "      <th>min</th>\n",
              "      <td>81.000000</td>\n",
              "      <td>3.400000</td>\n",
              "      <td>2.000000e+04</td>\n",
              "      <td>40.000000</td>\n",
              "      <td>0.393865</td>\n",
              "      <td>0.000000e+00</td>\n",
              "    </tr>\n",
              "    <tr>\n",
              "      <th>25%</th>\n",
              "      <td>100.000000</td>\n",
              "      <td>6.200000</td>\n",
              "      <td>3.154250e+07</td>\n",
              "      <td>46.000000</td>\n",
              "      <td>8.576823</td>\n",
              "      <td>4.390872e+07</td>\n",
              "    </tr>\n",
              "    <tr>\n",
              "      <th>50%</th>\n",
              "      <td>110.000000</td>\n",
              "      <td>6.600000</td>\n",
              "      <td>6.115500e+07</td>\n",
              "      <td>51.000000</td>\n",
              "      <td>11.073994</td>\n",
              "      <td>1.229171e+08</td>\n",
              "    </tr>\n",
              "    <tr>\n",
              "      <th>75%</th>\n",
              "      <td>125.000000</td>\n",
              "      <td>7.000000</td>\n",
              "      <td>1.170825e+08</td>\n",
              "      <td>56.000000</td>\n",
              "      <td>14.417171</td>\n",
              "      <td>2.589993e+08</td>\n",
              "    </tr>\n",
              "    <tr>\n",
              "      <th>max</th>\n",
              "      <td>191.000000</td>\n",
              "      <td>8.600000</td>\n",
              "      <td>6.522700e+08</td>\n",
              "      <td>60.000000</td>\n",
              "      <td>547.488298</td>\n",
              "      <td>1.513529e+09</td>\n",
              "    </tr>\n",
              "  </tbody>\n",
              "</table>\n",
              "</div>\n",
              "      <button class=\"colab-df-convert\" onclick=\"convertToInteractive('df-93152fda-49a6-4192-828f-517214720f18')\"\n",
              "              title=\"Convert this dataframe to an interactive table.\"\n",
              "              style=\"display:none;\">\n",
              "        \n",
              "  <svg xmlns=\"http://www.w3.org/2000/svg\" height=\"24px\"viewBox=\"0 0 24 24\"\n",
              "       width=\"24px\">\n",
              "    <path d=\"M0 0h24v24H0V0z\" fill=\"none\"/>\n",
              "    <path d=\"M18.56 5.44l.94 2.06.94-2.06 2.06-.94-2.06-.94-.94-2.06-.94 2.06-2.06.94zm-11 1L8.5 8.5l.94-2.06 2.06-.94-2.06-.94L8.5 2.5l-.94 2.06-2.06.94zm10 10l.94 2.06.94-2.06 2.06-.94-2.06-.94-.94-2.06-.94 2.06-2.06.94z\"/><path d=\"M17.41 7.96l-1.37-1.37c-.4-.4-.92-.59-1.43-.59-.52 0-1.04.2-1.43.59L10.3 9.45l-7.72 7.72c-.78.78-.78 2.05 0 2.83L4 21.41c.39.39.9.59 1.41.59.51 0 1.02-.2 1.41-.59l7.78-7.78 2.81-2.81c.8-.78.8-2.07 0-2.86zM5.41 20L4 18.59l7.72-7.72 1.47 1.35L5.41 20z\"/>\n",
              "  </svg>\n",
              "      </button>\n",
              "      \n",
              "  <style>\n",
              "    .colab-df-container {\n",
              "      display:flex;\n",
              "      flex-wrap:wrap;\n",
              "      gap: 12px;\n",
              "    }\n",
              "\n",
              "    .colab-df-convert {\n",
              "      background-color: #E8F0FE;\n",
              "      border: none;\n",
              "      border-radius: 50%;\n",
              "      cursor: pointer;\n",
              "      display: none;\n",
              "      fill: #1967D2;\n",
              "      height: 32px;\n",
              "      padding: 0 0 0 0;\n",
              "      width: 32px;\n",
              "    }\n",
              "\n",
              "    .colab-df-convert:hover {\n",
              "      background-color: #E2EBFA;\n",
              "      box-shadow: 0px 1px 2px rgba(60, 64, 67, 0.3), 0px 1px 3px 1px rgba(60, 64, 67, 0.15);\n",
              "      fill: #174EA6;\n",
              "    }\n",
              "\n",
              "    [theme=dark] .colab-df-convert {\n",
              "      background-color: #3B4455;\n",
              "      fill: #D2E3FC;\n",
              "    }\n",
              "\n",
              "    [theme=dark] .colab-df-convert:hover {\n",
              "      background-color: #434B5C;\n",
              "      box-shadow: 0px 1px 3px 1px rgba(0, 0, 0, 0.15);\n",
              "      filter: drop-shadow(0px 1px 2px rgba(0, 0, 0, 0.3));\n",
              "      fill: #FFFFFF;\n",
              "    }\n",
              "  </style>\n",
              "\n",
              "      <script>\n",
              "        const buttonEl =\n",
              "          document.querySelector('#df-93152fda-49a6-4192-828f-517214720f18 button.colab-df-convert');\n",
              "        buttonEl.style.display =\n",
              "          google.colab.kernel.accessAllowed ? 'block' : 'none';\n",
              "\n",
              "        async function convertToInteractive(key) {\n",
              "          const element = document.querySelector('#df-93152fda-49a6-4192-828f-517214720f18');\n",
              "          const dataTable =\n",
              "            await google.colab.kernel.invokeFunction('convertToInteractive',\n",
              "                                                     [key], {});\n",
              "          if (!dataTable) return;\n",
              "\n",
              "          const docLinkHtml = 'Like what you see? Visit the ' +\n",
              "            '<a target=\"_blank\" href=https://colab.research.google.com/notebooks/data_table.ipynb>data table notebook</a>'\n",
              "            + ' to learn more about interactive tables.';\n",
              "          element.innerHTML = '';\n",
              "          dataTable['output_type'] = 'display_data';\n",
              "          await google.colab.output.renderOutput(dataTable, element);\n",
              "          const docLink = document.createElement('div');\n",
              "          docLink.innerHTML = docLinkHtml;\n",
              "          element.appendChild(docLink);\n",
              "        }\n",
              "      </script>\n",
              "    </div>\n",
              "  </div>\n",
              "  "
            ]
          },
          "metadata": {},
          "execution_count": 194
        }
      ]
    },
    {
      "cell_type": "markdown",
      "source": [
        "## Plot 1: Correlation Matrix"
      ],
      "metadata": {
        "id": "fmU9vPeCkKRh"
      }
    },
    {
      "cell_type": "code",
      "source": [
        "# Correlation Matrix\n",
        "\n",
        "corr = movies_ratings.corr()\n",
        "ax = sns.heatmap(corr,\n",
        "                 vmin=-1, vmax=1, center=0,\n",
        "                 cmap=sns.diverging_palette(20, 220, n=200),\n",
        "                 square=True);\n",
        "ax.set_xticklabels(ax.get_xticklabels(),\n",
        "                   rotation=45,\n",
        "                   horizontalalignment='right');"
      ],
      "metadata": {
        "colab": {
          "base_uri": "https://localhost:8080/",
          "height": 304
        },
        "id": "k83hSd7XkGYY",
        "outputId": "31865e4a-eca6-44b6-fc4e-ae873602c4ce"
      },
      "execution_count": 195,
      "outputs": [
        {
          "output_type": "display_data",
          "data": {
            "text/plain": [
              "<Figure size 432x288 with 2 Axes>"
            ],
            "image/png": "[encoded data removed]"
          },
          "metadata": {
            "needs_background": "light"
          }
        }
      ]
    },
    {
      "cell_type": "markdown",
      "source": [
        "## Plot 2: Boxplot of Variables\n"
      ],
      "metadata": {
        "id": "0j8YpQGokpzO"
      }
    },
    {
      "cell_type": "markdown",
      "source": [
        "### Variable: Duration"
      ],
      "metadata": {
        "id": "0Pq1u-uklAdM"
      }
    },
    {
      "cell_type": "code",
      "source": [
        "movies_ratings.boxplot(column=['duration'])"
      ],
      "metadata": {
        "colab": {
          "base_uri": "https://localhost:8080/",
          "height": 282
        },
        "id": "ch1A7_PkkvVR",
        "outputId": "e573beff-96b3-43d3-ef8d-649dd565e007"
      },
      "execution_count": 196,
      "outputs": [
        {
          "output_type": "execute_result",
          "data": {
            "text/plain": [
              "<matplotlib.axes._subplots.AxesSubplot at 0x7f8f88bd8bd0>"
            ]
          },
          "metadata": {},
          "execution_count": 196
        },
        {
          "output_type": "display_data",
          "data": {
            "text/plain": [
              "<Figure size 432x288 with 1 Axes>"
            ],
            "image/png": "[encoded data removed]"
          },
          "metadata": {
            "needs_background": "light"
          }
        }
      ]
    },
    {
      "cell_type": "markdown",
      "source": [
        "### Variable: Rating"
      ],
      "metadata": {
        "id": "QyiJsWETlE0b"
      }
    },
    {
      "cell_type": "code",
      "source": [
        "movies_ratings.boxplot(column=['rating'])"
      ],
      "metadata": {
        "colab": {
          "base_uri": "https://localhost:8080/",
          "height": 282
        },
        "id": "LmVQM3NIlJoz",
        "outputId": "73b54cac-3201-45e1-aed1-8ee8e972d154"
      },
      "execution_count": 197,
      "outputs": [
        {
          "output_type": "execute_result",
          "data": {
            "text/plain": [
              "<matplotlib.axes._subplots.AxesSubplot at 0x7f8f7de5f110>"
            ]
          },
          "metadata": {},
          "execution_count": 197
        },
        {
          "output_type": "display_data",
          "data": {
            "text/plain": [
              "<Figure size 432x288 with 1 Axes>"
            ],
            "image/png": "[encoded data removed]"
          },
          "metadata": {
            "needs_background": "light"
          }
        }
      ]
    },
    {
      "cell_type": "markdown",
      "source": [
        "### Varibale: Budget"
      ],
      "metadata": {
        "id": "vPQeFHoYlONJ"
      }
    },
    {
      "cell_type": "code",
      "source": [
        "movies_ratings.boxplot(column=['budget'])"
      ],
      "metadata": {
        "colab": {
          "base_uri": "https://localhost:8080/",
          "height": 293
        },
        "id": "QRyzW_3TlRIk",
        "outputId": "00fa87b2-424f-4518-a5b1-55aed0b857c9"
      },
      "execution_count": 198,
      "outputs": [
        {
          "output_type": "execute_result",
          "data": {
            "text/plain": [
              "<matplotlib.axes._subplots.AxesSubplot at 0x7f8f7de41b90>"
            ]
          },
          "metadata": {},
          "execution_count": 198
        },
        {
          "output_type": "display_data",
          "data": {
            "text/plain": [
              "<Figure size 432x288 with 1 Axes>"
            ],
            "image/png": "[encoded data removed]"
          },
          "metadata": {
            "needs_background": "light"
          }
        }
      ]
    },
    {
      "cell_type": "markdown",
      "source": [
        "### Variable: Metascore\n"
      ],
      "metadata": {
        "id": "KS7O97YLlWnZ"
      }
    },
    {
      "cell_type": "code",
      "source": [
        "movies_ratings.boxplot(column=['metascore'])"
      ],
      "metadata": {
        "colab": {
          "base_uri": "https://localhost:8080/",
          "height": 282
        },
        "id": "bt38pM0slYg5",
        "outputId": "62e160b0-58b6-4c03-b7df-d01d5ffd5ff9"
      },
      "execution_count": 199,
      "outputs": [
        {
          "output_type": "execute_result",
          "data": {
            "text/plain": [
              "<matplotlib.axes._subplots.AxesSubplot at 0x7f8f7ddb2b10>"
            ]
          },
          "metadata": {},
          "execution_count": 199
        },
        {
          "output_type": "display_data",
          "data": {
            "text/plain": [
              "<Figure size 432x288 with 1 Axes>"
            ],
            "image/png": "[encoded data removed]"
          },
          "metadata": {
            "needs_background": "light"
          }
        }
      ]
    },
    {
      "cell_type": "markdown",
      "source": [
        "### Variable: Popularity"
      ],
      "metadata": {
        "id": "8poWxI8mlamW"
      }
    },
    {
      "cell_type": "code",
      "source": [
        "movies_ratings.boxplot(column=['popularity'])"
      ],
      "metadata": {
        "colab": {
          "base_uri": "https://localhost:8080/",
          "height": 282
        },
        "id": "AsEYBXR_ldMy",
        "outputId": "f6dfe4c7-87cf-4fd1-dad5-75e39d6cc01d"
      },
      "execution_count": 200,
      "outputs": [
        {
          "output_type": "execute_result",
          "data": {
            "text/plain": [
              "<matplotlib.axes._subplots.AxesSubplot at 0x7f8f7dd27e50>"
            ]
          },
          "metadata": {},
          "execution_count": 200
        },
        {
          "output_type": "display_data",
          "data": {
            "text/plain": [
              "<Figure size 432x288 with 1 Axes>"
            ],
            "image/png": "[encoded data removed]"
          },
          "metadata": {
            "needs_background": "light"
          }
        }
      ]
    },
    {
      "cell_type": "code",
      "source": [
        "# Removing outliers\n",
        "movies_ratings = movies_ratings[movies_ratings.popularity < 300]"
      ],
      "metadata": {
        "id": "NLVj18HnlhaI"
      },
      "execution_count": 201,
      "outputs": []
    },
    {
      "cell_type": "markdown",
      "source": [
        "### Variable: Revenue"
      ],
      "metadata": {
        "id": "nQLIgow2lfQz"
      }
    },
    {
      "cell_type": "code",
      "source": [
        "movies_ratings.boxplot(column=['revenue'])"
      ],
      "metadata": {
        "colab": {
          "base_uri": "https://localhost:8080/",
          "height": 293
        },
        "id": "mUVc74cRlrn1",
        "outputId": "989be755-f1da-409b-efd1-057d1edf210b"
      },
      "execution_count": 202,
      "outputs": [
        {
          "output_type": "execute_result",
          "data": {
            "text/plain": [
              "<matplotlib.axes._subplots.AxesSubplot at 0x7f8f7dc97150>"
            ]
          },
          "metadata": {},
          "execution_count": 202
        },
        {
          "output_type": "display_data",
          "data": {
            "text/plain": [
              "<Figure size 432x288 with 1 Axes>"
            ],
            "image/png": "[encoded data removed]"
          },
          "metadata": {
            "needs_background": "light"
          }
        }
      ]
    },
    {
      "cell_type": "markdown",
      "source": [
        "## Plot 3: Ratings vs Metascore"
      ],
      "metadata": {
        "id": "-C92VXP1lwbS"
      }
    },
    {
      "cell_type": "code",
      "source": [
        "fig, ax = plt.subplots(1, figsize=(16,8))\n",
        "ax.scatter('rating', 'metascore', data=movies_ratings)"
      ],
      "metadata": {
        "colab": {
          "base_uri": "https://localhost:8080/",
          "height": 500
        },
        "id": "k14c71P3l0Re",
        "outputId": "27174f8a-7264-4d68-a612-8a383dc6da7a"
      },
      "execution_count": 203,
      "outputs": [
        {
          "output_type": "execute_result",
          "data": {
            "text/plain": [
              "<matplotlib.collections.PathCollection at 0x7f8f7dc474d0>"
            ]
          },
          "metadata": {},
          "execution_count": 203
        },
        {
          "output_type": "display_data",
          "data": {
            "text/plain": [
              "<Figure size 1152x576 with 1 Axes>"
            ],
            "image/png": "[encoded data removed]"
          },
          "metadata": {
            "needs_background": "light"
          }
        }
      ]
    },
    {
      "cell_type": "markdown",
      "source": [
        "## Plot 4: Revenue vs Budget"
      ],
      "metadata": {
        "id": "H89uwBqBmDdG"
      }
    },
    {
      "cell_type": "code",
      "source": [
        "fig, ax = plt.subplots(1, figsize=(16,8))\n",
        "ax.scatter('revenue', 'budget', data=movies_ratings)"
      ],
      "metadata": {
        "colab": {
          "base_uri": "https://localhost:8080/",
          "height": 524
        },
        "id": "1a76W07WmCLl",
        "outputId": "264f67e0-b904-4cbc-bd67-7a7f3c51daea"
      },
      "execution_count": 204,
      "outputs": [
        {
          "output_type": "execute_result",
          "data": {
            "text/plain": [
              "<matplotlib.collections.PathCollection at 0x7f8f7dc473d0>"
            ]
          },
          "metadata": {},
          "execution_count": 204
        },
        {
          "output_type": "display_data",
          "data": {
            "text/plain": [
              "<Figure size 1152x576 with 1 Axes>"
            ],
            "image/png": "[encoded data removed]"
          },
          "metadata": {
            "needs_background": "light"
          }
        }
      ]
    },
    {
      "cell_type": "markdown",
      "source": [
        "## Plot 5: Distribution of Ratings"
      ],
      "metadata": {
        "id": "dAbMuCLWmRSO"
      }
    },
    {
      "cell_type": "code",
      "source": [
        "sns.distplot(movies_ratings['rating']).set_title('Distribution of Ratings')"
      ],
      "metadata": {
        "colab": {
          "base_uri": "https://localhost:8080/",
          "height": 367
        },
        "id": "CEJr6YD_mPuG",
        "outputId": "f3ef89aa-4c99-4cc2-a711-5f1c430cdd49"
      },
      "execution_count": 205,
      "outputs": [
        {
          "output_type": "stream",
          "name": "stderr",
          "text": [
            "/usr/local/lib/python3.7/dist-packages/seaborn/distributions.py:2619: FutureWarning: `distplot` is a deprecated function and will be removed in a future version. Please adapt your code to use either `displot` (a figure-level function with similar flexibility) or `histplot` (an axes-level function for histograms).\n",
            "  warnings.warn(msg, FutureWarning)\n"
          ]
        },
        {
          "output_type": "execute_result",
          "data": {
            "text/plain": [
              "Text(0.5, 1.0, 'Distribution of Ratings')"
            ]
          },
          "metadata": {},
          "execution_count": 205
        },
        {
          "output_type": "display_data",
          "data": {
            "text/plain": [
              "<Figure size 432x288 with 1 Axes>"
            ],
            "image/png": "[encoded data removed]"
          },
          "metadata": {
            "needs_background": "light"
          }
        }
      ]
    },
    {
      "cell_type": "markdown",
      "source": [
        "## Plot 6: Distribution of Metascore"
      ],
      "metadata": {
        "id": "6drPJtFPmf7r"
      }
    },
    {
      "cell_type": "code",
      "source": [
        "sns.distplot(movies_ratings['metascore']).set_title('Distribution of Metascore')"
      ],
      "metadata": {
        "colab": {
          "base_uri": "https://localhost:8080/",
          "height": 367
        },
        "id": "mqYKLBqmmiwB",
        "outputId": "471fef20-c561-4ff5-984f-279b37d2ed41"
      },
      "execution_count": 206,
      "outputs": [
        {
          "output_type": "stream",
          "name": "stderr",
          "text": [
            "/usr/local/lib/python3.7/dist-packages/seaborn/distributions.py:2619: FutureWarning: `distplot` is a deprecated function and will be removed in a future version. Please adapt your code to use either `displot` (a figure-level function with similar flexibility) or `histplot` (an axes-level function for histograms).\n",
            "  warnings.warn(msg, FutureWarning)\n"
          ]
        },
        {
          "output_type": "execute_result",
          "data": {
            "text/plain": [
              "Text(0.5, 1.0, 'Distribution of Metascore')"
            ]
          },
          "metadata": {},
          "execution_count": 206
        },
        {
          "output_type": "display_data",
          "data": {
            "text/plain": [
              "<Figure size 432x288 with 1 Axes>"
            ],
            "image/png": "[encoded data removed]"
          },
          "metadata": {
            "needs_background": "light"
          }
        }
      ]
    },
    {
      "cell_type": "markdown",
      "source": [
        "## Plot 7: Distribution of Duration"
      ],
      "metadata": {
        "id": "hDhTxsEEmtB2"
      }
    },
    {
      "cell_type": "code",
      "source": [
        "sns.distplot(movies_ratings['duration']).set_title('Distribution of Duration')"
      ],
      "metadata": {
        "colab": {
          "base_uri": "https://localhost:8080/",
          "height": 367
        },
        "id": "ZA89aEhbmvwO",
        "outputId": "18a13f6f-1bf9-490a-da0f-51d0a5b8e0a5"
      },
      "execution_count": 207,
      "outputs": [
        {
          "output_type": "stream",
          "name": "stderr",
          "text": [
            "/usr/local/lib/python3.7/dist-packages/seaborn/distributions.py:2619: FutureWarning: `distplot` is a deprecated function and will be removed in a future version. Please adapt your code to use either `displot` (a figure-level function with similar flexibility) or `histplot` (an axes-level function for histograms).\n",
            "  warnings.warn(msg, FutureWarning)\n"
          ]
        },
        {
          "output_type": "execute_result",
          "data": {
            "text/plain": [
              "Text(0.5, 1.0, 'Distribution of Duration')"
            ]
          },
          "metadata": {},
          "execution_count": 207
        },
        {
          "output_type": "display_data",
          "data": {
            "text/plain": [
              "<Figure size 432x288 with 1 Axes>"
            ],
            "image/png": "[encoded data removed]"
          },
          "metadata": {
            "needs_background": "light"
          }
        }
      ]
    },
    {
      "cell_type": "markdown",
      "source": [
        "## Plot 8: Distribution of Budget"
      ],
      "metadata": {
        "id": "lQbmyL-Mm6N2"
      }
    },
    {
      "cell_type": "code",
      "source": [
        "sns.histplot(movies_ratings['budget']).set_title('Distribution of Budget')"
      ],
      "metadata": {
        "colab": {
          "base_uri": "https://localhost:8080/",
          "height": 312
        },
        "id": "ldjoU0IDm8lQ",
        "outputId": "c240acb3-585c-479e-f118-c1fb6c3b4d56"
      },
      "execution_count": 208,
      "outputs": [
        {
          "output_type": "execute_result",
          "data": {
            "text/plain": [
              "Text(0.5, 1.0, 'Distribution of Budget')"
            ]
          },
          "metadata": {},
          "execution_count": 208
        },
        {
          "output_type": "display_data",
          "data": {
            "text/plain": [
              "<Figure size 432x288 with 1 Axes>"
            ],
            "image/png": "[encoded data removed]"
          },
          "metadata": {
            "needs_background": "light"
          }
        }
      ]
    },
    {
      "cell_type": "markdown",
      "source": [
        "## Plot 9: Distribution of Revenue"
      ],
      "metadata": {
        "id": "3C8Bnph7nAhc"
      }
    },
    {
      "cell_type": "code",
      "source": [
        "sns.histplot(movies_ratings['revenue']).set_title('Distribution of Revenue')"
      ],
      "metadata": {
        "colab": {
          "base_uri": "https://localhost:8080/",
          "height": 312
        },
        "id": "yMXGcvInnEM_",
        "outputId": "0fb093fd-bc87-4346-f20f-fc51f392b79b"
      },
      "execution_count": 209,
      "outputs": [
        {
          "output_type": "execute_result",
          "data": {
            "text/plain": [
              "Text(0.5, 1.0, 'Distribution of Revenue')"
            ]
          },
          "metadata": {},
          "execution_count": 209
        },
        {
          "output_type": "display_data",
          "data": {
            "text/plain": [
              "<Figure size 432x288 with 1 Axes>"
            ],
            "image/png": "[encoded data removed]"
          },
          "metadata": {
            "needs_background": "light"
          }
        }
      ]
    },
    {
      "cell_type": "markdown",
      "source": [
        "## Plot 10: Scatter Plot of Popularity and Budget"
      ],
      "metadata": {
        "id": "nm2vsVemKMsq"
      }
    },
    {
      "cell_type": "code",
      "source": [
        "fig, ax=plt.subplots(1, figsize=(16,8))\n",
        "ax.scatter('popularity', 'budget', data=movies_ratings)"
      ],
      "metadata": {
        "colab": {
          "base_uri": "https://localhost:8080/",
          "height": 511
        },
        "id": "LTeRHKcYKS5F",
        "outputId": "bb7fc373-e9df-4aa5-b822-6e4fff988063"
      },
      "execution_count": 210,
      "outputs": [
        {
          "output_type": "execute_result",
          "data": {
            "text/plain": [
              "<matplotlib.collections.PathCollection at 0x7f8f7dbba590>"
            ]
          },
          "metadata": {},
          "execution_count": 210
        },
        {
          "output_type": "display_data",
          "data": {
            "text/plain": [
              "<Figure size 1152x576 with 1 Axes>"
            ],
            "image/png": "[encoded data removed]"
          },
          "metadata": {
            "needs_background": "light"
          }
        }
      ]
    },
    {
      "cell_type": "markdown",
      "source": [
        "## Plot 11: Scatter Plot of Popularity and Revenue"
      ],
      "metadata": {
        "id": "yjg46c1tKmME"
      }
    },
    {
      "cell_type": "code",
      "source": [
        "fig, ax=plt.subplots(1, figsize=(16,8))\n",
        "ax.scatter('popularity', 'revenue', data=movies_ratings)"
      ],
      "metadata": {
        "colab": {
          "base_uri": "https://localhost:8080/",
          "height": 511
        },
        "id": "2AOHdIkCKruS",
        "outputId": "e1e81af7-1e65-4c9e-a2b7-4340fde0d97a"
      },
      "execution_count": 211,
      "outputs": [
        {
          "output_type": "execute_result",
          "data": {
            "text/plain": [
              "<matplotlib.collections.PathCollection at 0x7f8f7d7acb50>"
            ]
          },
          "metadata": {},
          "execution_count": 211
        },
        {
          "output_type": "display_data",
          "data": {
            "text/plain": [
              "<Figure size 1152x576 with 1 Axes>"
            ],
            "image/png": "[encoded data removed]"
          },
          "metadata": {
            "needs_background": "light"
          }
        }
      ]
    },
    {
      "cell_type": "markdown",
      "source": [
        "## Plot 12: Original Language, rating and metascore"
      ],
      "metadata": {
        "id": "taisGoJrKzm0"
      }
    },
    {
      "cell_type": "code",
      "source": [
        "fig, ax = plt.subplots(1,2, figsize=(16,8))\n",
        "\n",
        "ax[0].barh('original_language', 'rating', data=movies_ratings.groupby('original_language', as_index=False).mean())\n",
        "ax[1].barh('original_language', 'metascore', data=movies_ratings.groupby('original_language', as_index=False).mean())"
      ],
      "metadata": {
        "colab": {
          "base_uri": "https://localhost:8080/",
          "height": 500
        },
        "id": "RwDd-IdTK_qm",
        "outputId": "02ff372b-fa97-4dee-9ec8-299a7647aacb"
      },
      "execution_count": 212,
      "outputs": [
        {
          "output_type": "execute_result",
          "data": {
            "text/plain": [
              "<BarContainer object of 18 artists>"
            ]
          },
          "metadata": {},
          "execution_count": 212
        },
        {
          "output_type": "display_data",
          "data": {
            "text/plain": [
              "<Figure size 1152x576 with 2 Axes>"
            ],
            "image/png": "[encoded data removed]"
          },
          "metadata": {
            "needs_background": "light"
          }
        }
      ]
    },
    {
      "cell_type": "markdown",
      "source": [
        "## Table 1: Details for each year"
      ],
      "metadata": {
        "id": "wkH7rg40LlRS"
      }
    },
    {
      "cell_type": "code",
      "source": [
        "movies_ratings.groupby('year', as_index=False).mean()"
      ],
      "metadata": {
        "colab": {
          "base_uri": "https://localhost:8080/",
          "height": 424
        },
        "id": "iIdnav1KLsAK",
        "outputId": "6f4bf21c-c278-4f5e-e13b-d0758beacee5"
      },
      "execution_count": 213,
      "outputs": [
        {
          "output_type": "execute_result",
          "data": {
            "text/plain": [
              "    year    duration    rating        budget  metascore  popularity  \\\n",
              "0   1939         NaN       NaN           NaN        NaN         NaN   \n",
              "1   1941         NaN       NaN           NaN        NaN         NaN   \n",
              "2   1942         NaN       NaN           NaN        NaN         NaN   \n",
              "3   1945         NaN       NaN           NaN        NaN         NaN   \n",
              "4   1946         NaN       NaN           NaN        NaN         NaN   \n",
              "..   ...         ...       ...           ...        ...         ...   \n",
              "69  2013  113.000000  6.614815  6.708556e+07  49.407407   12.377853   \n",
              "70  2014  115.400000  6.560000  8.654200e+07  49.050000   19.798173   \n",
              "71  2015  121.800000  6.333333  1.115593e+08  50.533333   19.967811   \n",
              "72  2016  114.583333  6.404167  8.897542e+07  50.375000   19.628172   \n",
              "73  2017  113.111111  6.377778  1.153222e+08  49.333333   22.699964   \n",
              "\n",
              "         revenue  \n",
              "0            NaN  \n",
              "1            NaN  \n",
              "2            NaN  \n",
              "3            NaN  \n",
              "4            NaN  \n",
              "..           ...  \n",
              "69  1.424225e+08  \n",
              "70  2.480037e+08  \n",
              "71  3.175682e+08  \n",
              "72  2.540122e+08  \n",
              "73  3.008398e+08  \n",
              "\n",
              "[74 rows x 7 columns]"
            ],
            "text/html": [
              "\n",
              "  <div id=\"df-181a8498-ccaf-4342-ae8b-dcdd2781accf\">\n",
              "    <div class=\"colab-df-container\">\n",
              "      <div>\n",
              "<style scoped>\n",
              "    .dataframe tbody tr th:only-of-type {\n",
              "        vertical-align: middle;\n",
              "    }\n",
              "\n",
              "    .dataframe tbody tr th {\n",
              "        vertical-align: top;\n",
              "    }\n",
              "\n",
              "    .dataframe thead th {\n",
              "        text-align: right;\n",
              "    }\n",
              "</style>\n",
              "<table border=\"1\" class=\"dataframe\">\n",
              "  <thead>\n",
              "    <tr style=\"text-align: right;\">\n",
              "      <th></th>\n",
              "      <th>year</th>\n",
              "      <th>duration</th>\n",
              "      <th>rating</th>\n",
              "      <th>budget</th>\n",
              "      <th>metascore</th>\n",
              "      <th>popularity</th>\n",
              "      <th>revenue</th>\n",
              "    </tr>\n",
              "  </thead>\n",
              "  <tbody>\n",
              "    <tr>\n",
              "      <th>0</th>\n",
              "      <td>1939</td>\n",
              "      <td>NaN</td>\n",
              "      <td>NaN</td>\n",
              "      <td>NaN</td>\n",
              "      <td>NaN</td>\n",
              "      <td>NaN</td>\n",
              "      <td>NaN</td>\n",
              "    </tr>\n",
              "    <tr>\n",
              "      <th>1</th>\n",
              "      <td>1941</td>\n",
              "      <td>NaN</td>\n",
              "      <td>NaN</td>\n",
              "      <td>NaN</td>\n",
              "      <td>NaN</td>\n",
              "      <td>NaN</td>\n",
              "      <td>NaN</td>\n",
              "    </tr>\n",
              "    <tr>\n",
              "      <th>2</th>\n",
              "      <td>1942</td>\n",
              "      <td>NaN</td>\n",
              "      <td>NaN</td>\n",
              "      <td>NaN</td>\n",
              "      <td>NaN</td>\n",
              "      <td>NaN</td>\n",
              "      <td>NaN</td>\n",
              "    </tr>\n",
              "    <tr>\n",
              "      <th>3</th>\n",
              "      <td>1945</td>\n",
              "      <td>NaN</td>\n",
              "      <td>NaN</td>\n",
              "      <td>NaN</td>\n",
              "      <td>NaN</td>\n",
              "      <td>NaN</td>\n",
              "      <td>NaN</td>\n",
              "    </tr>\n",
              "    <tr>\n",
              "      <th>4</th>\n",
              "      <td>1946</td>\n",
              "      <td>NaN</td>\n",
              "      <td>NaN</td>\n",
              "      <td>NaN</td>\n",
              "      <td>NaN</td>\n",
              "      <td>NaN</td>\n",
              "      <td>NaN</td>\n",
              "    </tr>\n",
              "    <tr>\n",
              "      <th>...</th>\n",
              "      <td>...</td>\n",
              "      <td>...</td>\n",
              "      <td>...</td>\n",
              "      <td>...</td>\n",
              "      <td>...</td>\n",
              "      <td>...</td>\n",
              "      <td>...</td>\n",
              "    </tr>\n",
              "    <tr>\n",
              "      <th>69</th>\n",
              "      <td>2013</td>\n",
              "      <td>113.000000</td>\n",
              "      <td>6.614815</td>\n",
              "      <td>6.708556e+07</td>\n",
              "      <td>49.407407</td>\n",
              "      <td>12.377853</td>\n",
              "      <td>1.424225e+08</td>\n",
              "    </tr>\n",
              "    <tr>\n",
              "      <th>70</th>\n",
              "      <td>2014</td>\n",
              "      <td>115.400000</td>\n",
              "      <td>6.560000</td>\n",
              "      <td>8.654200e+07</td>\n",
              "      <td>49.050000</td>\n",
              "      <td>19.798173</td>\n",
              "      <td>2.480037e+08</td>\n",
              "    </tr>\n",
              "    <tr>\n",
              "      <th>71</th>\n",
              "      <td>2015</td>\n",
              "      <td>121.800000</td>\n",
              "      <td>6.333333</td>\n",
              "      <td>1.115593e+08</td>\n",
              "      <td>50.533333</td>\n",
              "      <td>19.967811</td>\n",
              "      <td>3.175682e+08</td>\n",
              "    </tr>\n",
              "    <tr>\n",
              "      <th>72</th>\n",
              "      <td>2016</td>\n",
              "      <td>114.583333</td>\n",
              "      <td>6.404167</td>\n",
              "      <td>8.897542e+07</td>\n",
              "      <td>50.375000</td>\n",
              "      <td>19.628172</td>\n",
              "      <td>2.540122e+08</td>\n",
              "    </tr>\n",
              "    <tr>\n",
              "      <th>73</th>\n",
              "      <td>2017</td>\n",
              "      <td>113.111111</td>\n",
              "      <td>6.377778</td>\n",
              "      <td>1.153222e+08</td>\n",
              "      <td>49.333333</td>\n",
              "      <td>22.699964</td>\n",
              "      <td>3.008398e+08</td>\n",
              "    </tr>\n",
              "  </tbody>\n",
              "</table>\n",
              "<p>74 rows × 7 columns</p>\n",
              "</div>\n",
              "      <button class=\"colab-df-convert\" onclick=\"convertToInteractive('df-181a8498-ccaf-4342-ae8b-dcdd2781accf')\"\n",
              "              title=\"Convert this dataframe to an interactive table.\"\n",
              "              style=\"display:none;\">\n",
              "        \n",
              "  <svg xmlns=\"http://www.w3.org/2000/svg\" height=\"24px\"viewBox=\"0 0 24 24\"\n",
              "       width=\"24px\">\n",
              "    <path d=\"M0 0h24v24H0V0z\" fill=\"none\"/>\n",
              "    <path d=\"M18.56 5.44l.94 2.06.94-2.06 2.06-.94-2.06-.94-.94-2.06-.94 2.06-2.06.94zm-11 1L8.5 8.5l.94-2.06 2.06-.94-2.06-.94L8.5 2.5l-.94 2.06-2.06.94zm10 10l.94 2.06.94-2.06 2.06-.94-2.06-.94-.94-2.06-.94 2.06-2.06.94z\"/><path d=\"M17.41 7.96l-1.37-1.37c-.4-.4-.92-.59-1.43-.59-.52 0-1.04.2-1.43.59L10.3 9.45l-7.72 7.72c-.78.78-.78 2.05 0 2.83L4 21.41c.39.39.9.59 1.41.59.51 0 1.02-.2 1.41-.59l7.78-7.78 2.81-2.81c.8-.78.8-2.07 0-2.86zM5.41 20L4 18.59l7.72-7.72 1.47 1.35L5.41 20z\"/>\n",
              "  </svg>\n",
              "      </button>\n",
              "      \n",
              "  <style>\n",
              "    .colab-df-container {\n",
              "      display:flex;\n",
              "      flex-wrap:wrap;\n",
              "      gap: 12px;\n",
              "    }\n",
              "\n",
              "    .colab-df-convert {\n",
              "      background-color: #E8F0FE;\n",
              "      border: none;\n",
              "      border-radius: 50%;\n",
              "      cursor: pointer;\n",
              "      display: none;\n",
              "      fill: #1967D2;\n",
              "      height: 32px;\n",
              "      padding: 0 0 0 0;\n",
              "      width: 32px;\n",
              "    }\n",
              "\n",
              "    .colab-df-convert:hover {\n",
              "      background-color: #E2EBFA;\n",
              "      box-shadow: 0px 1px 2px rgba(60, 64, 67, 0.3), 0px 1px 3px 1px rgba(60, 64, 67, 0.15);\n",
              "      fill: #174EA6;\n",
              "    }\n",
              "\n",
              "    [theme=dark] .colab-df-convert {\n",
              "      background-color: #3B4455;\n",
              "      fill: #D2E3FC;\n",
              "    }\n",
              "\n",
              "    [theme=dark] .colab-df-convert:hover {\n",
              "      background-color: #434B5C;\n",
              "      box-shadow: 0px 1px 3px 1px rgba(0, 0, 0, 0.15);\n",
              "      filter: drop-shadow(0px 1px 2px rgba(0, 0, 0, 0.3));\n",
              "      fill: #FFFFFF;\n",
              "    }\n",
              "  </style>\n",
              "\n",
              "      <script>\n",
              "        const buttonEl =\n",
              "          document.querySelector('#df-181a8498-ccaf-4342-ae8b-dcdd2781accf button.colab-df-convert');\n",
              "        buttonEl.style.display =\n",
              "          google.colab.kernel.accessAllowed ? 'block' : 'none';\n",
              "\n",
              "        async function convertToInteractive(key) {\n",
              "          const element = document.querySelector('#df-181a8498-ccaf-4342-ae8b-dcdd2781accf');\n",
              "          const dataTable =\n",
              "            await google.colab.kernel.invokeFunction('convertToInteractive',\n",
              "                                                     [key], {});\n",
              "          if (!dataTable) return;\n",
              "\n",
              "          const docLinkHtml = 'Like what you see? Visit the ' +\n",
              "            '<a target=\"_blank\" href=https://colab.research.google.com/notebooks/data_table.ipynb>data table notebook</a>'\n",
              "            + ' to learn more about interactive tables.';\n",
              "          element.innerHTML = '';\n",
              "          dataTable['output_type'] = 'display_data';\n",
              "          await google.colab.output.renderOutput(dataTable, element);\n",
              "          const docLink = document.createElement('div');\n",
              "          docLink.innerHTML = docLinkHtml;\n",
              "          element.appendChild(docLink);\n",
              "        }\n",
              "      </script>\n",
              "    </div>\n",
              "  </div>\n",
              "  "
            ]
          },
          "metadata": {},
          "execution_count": 213
        }
      ]
    },
    {
      "cell_type": "markdown",
      "source": [
        "## Table 2: Details for each Language"
      ],
      "metadata": {
        "id": "KUAXYjRnLzGZ"
      }
    },
    {
      "cell_type": "code",
      "source": [
        "movies_ratings.groupby('original_language', as_index=False).mean()"
      ],
      "metadata": {
        "colab": {
          "base_uri": "https://localhost:8080/",
          "height": 614
        },
        "id": "_8bOEQdkL5RF",
        "outputId": "479b8037-5b6f-4823-f689-a117feeb57b0"
      },
      "execution_count": 214,
      "outputs": [
        {
          "output_type": "execute_result",
          "data": {
            "text/plain": [
              "   original_language    duration    rating        budget  metascore  \\\n",
              "0                 ca         NaN       NaN           NaN        NaN   \n",
              "1                 cn         NaN       NaN           NaN        NaN   \n",
              "2                 da  136.666667  7.033333  7.533333e+05  56.333333   \n",
              "3                 de         NaN       NaN           NaN        NaN   \n",
              "4                 el         NaN       NaN           NaN        NaN   \n",
              "5                 en  113.549383  6.562551  8.618990e+07  50.695473   \n",
              "6                 es         NaN       NaN           NaN        NaN   \n",
              "7                 fr  112.500000  7.325000  1.367250e+07  54.000000   \n",
              "8                 hi         NaN       NaN           NaN        NaN   \n",
              "9                 it  112.000000  8.000000  3.052500e+07  56.500000   \n",
              "10                ja         NaN       NaN           NaN        NaN   \n",
              "11                ko         NaN       NaN           NaN        NaN   \n",
              "12                pt         NaN       NaN           NaN        NaN   \n",
              "13                ru         NaN       NaN           NaN        NaN   \n",
              "14                sr         NaN       NaN           NaN        NaN   \n",
              "15                sv         NaN       NaN           NaN        NaN   \n",
              "16                te         NaN       NaN           NaN        NaN   \n",
              "17                zh         NaN       NaN           NaN        NaN   \n",
              "\n",
              "    popularity       revenue  \n",
              "0          NaN           NaN  \n",
              "1          NaN           NaN  \n",
              "2     9.057453  6.566623e+06  \n",
              "3          NaN           NaN  \n",
              "4          NaN           NaN  \n",
              "5    12.595289  1.935465e+08  \n",
              "6          NaN           NaN  \n",
              "7    11.372039  1.155844e+08  \n",
              "8          NaN           NaN  \n",
              "9    24.442741  1.147000e+08  \n",
              "10         NaN           NaN  \n",
              "11         NaN           NaN  \n",
              "12         NaN           NaN  \n",
              "13         NaN           NaN  \n",
              "14         NaN           NaN  \n",
              "15         NaN           NaN  \n",
              "16         NaN           NaN  \n",
              "17         NaN           NaN  "
            ],
            "text/html": [
              "\n",
              "  <div id=\"df-eef86c73-1068-42c0-9e32-a5c06e3a1632\">\n",
              "    <div class=\"colab-df-container\">\n",
              "      <div>\n",
              "<style scoped>\n",
              "    .dataframe tbody tr th:only-of-type {\n",
              "        vertical-align: middle;\n",
              "    }\n",
              "\n",
              "    .dataframe tbody tr th {\n",
              "        vertical-align: top;\n",
              "    }\n",
              "\n",
              "    .dataframe thead th {\n",
              "        text-align: right;\n",
              "    }\n",
              "</style>\n",
              "<table border=\"1\" class=\"dataframe\">\n",
              "  <thead>\n",
              "    <tr style=\"text-align: right;\">\n",
              "      <th></th>\n",
              "      <th>original_language</th>\n",
              "      <th>duration</th>\n",
              "      <th>rating</th>\n",
              "      <th>budget</th>\n",
              "      <th>metascore</th>\n",
              "      <th>popularity</th>\n",
              "      <th>revenue</th>\n",
              "    </tr>\n",
              "  </thead>\n",
              "  <tbody>\n",
              "    <tr>\n",
              "      <th>0</th>\n",
              "      <td>ca</td>\n",
              "      <td>NaN</td>\n",
              "      <td>NaN</td>\n",
              "      <td>NaN</td>\n",
              "      <td>NaN</td>\n",
              "      <td>NaN</td>\n",
              "      <td>NaN</td>\n",
              "    </tr>\n",
              "    <tr>\n",
              "      <th>1</th>\n",
              "      <td>cn</td>\n",
              "      <td>NaN</td>\n",
              "      <td>NaN</td>\n",
              "      <td>NaN</td>\n",
              "      <td>NaN</td>\n",
              "      <td>NaN</td>\n",
              "      <td>NaN</td>\n",
              "    </tr>\n",
              "    <tr>\n",
              "      <th>2</th>\n",
              "      <td>da</td>\n",
              "      <td>136.666667</td>\n",
              "      <td>7.033333</td>\n",
              "      <td>7.533333e+05</td>\n",
              "      <td>56.333333</td>\n",
              "      <td>9.057453</td>\n",
              "      <td>6.566623e+06</td>\n",
              "    </tr>\n",
              "    <tr>\n",
              "      <th>3</th>\n",
              "      <td>de</td>\n",
              "      <td>NaN</td>\n",
              "      <td>NaN</td>\n",
              "      <td>NaN</td>\n",
              "      <td>NaN</td>\n",
              "      <td>NaN</td>\n",
              "      <td>NaN</td>\n",
              "    </tr>\n",
              "    <tr>\n",
              "      <th>4</th>\n",
              "      <td>el</td>\n",
              "      <td>NaN</td>\n",
              "      <td>NaN</td>\n",
              "      <td>NaN</td>\n",
              "      <td>NaN</td>\n",
              "      <td>NaN</td>\n",
              "      <td>NaN</td>\n",
              "    </tr>\n",
              "    <tr>\n",
              "      <th>5</th>\n",
              "      <td>en</td>\n",
              "      <td>113.549383</td>\n",
              "      <td>6.562551</td>\n",
              "      <td>8.618990e+07</td>\n",
              "      <td>50.695473</td>\n",
              "      <td>12.595289</td>\n",
              "      <td>1.935465e+08</td>\n",
              "    </tr>\n",
              "    <tr>\n",
              "      <th>6</th>\n",
              "      <td>es</td>\n",
              "      <td>NaN</td>\n",
              "      <td>NaN</td>\n",
              "      <td>NaN</td>\n",
              "      <td>NaN</td>\n",
              "      <td>NaN</td>\n",
              "      <td>NaN</td>\n",
              "    </tr>\n",
              "    <tr>\n",
              "      <th>7</th>\n",
              "      <td>fr</td>\n",
              "      <td>112.500000</td>\n",
              "      <td>7.325000</td>\n",
              "      <td>1.367250e+07</td>\n",
              "      <td>54.000000</td>\n",
              "      <td>11.372039</td>\n",
              "      <td>1.155844e+08</td>\n",
              "    </tr>\n",
              "    <tr>\n",
              "      <th>8</th>\n",
              "      <td>hi</td>\n",
              "      <td>NaN</td>\n",
              "      <td>NaN</td>\n",
              "      <td>NaN</td>\n",
              "      <td>NaN</td>\n",
              "      <td>NaN</td>\n",
              "      <td>NaN</td>\n",
              "    </tr>\n",
              "    <tr>\n",
              "      <th>9</th>\n",
              "      <td>it</td>\n",
              "      <td>112.000000</td>\n",
              "      <td>8.000000</td>\n",
              "      <td>3.052500e+07</td>\n",
              "      <td>56.500000</td>\n",
              "      <td>24.442741</td>\n",
              "      <td>1.147000e+08</td>\n",
              "    </tr>\n",
              "    <tr>\n",
              "      <th>10</th>\n",
              "      <td>ja</td>\n",
              "      <td>NaN</td>\n",
              "      <td>NaN</td>\n",
              "      <td>NaN</td>\n",
              "      <td>NaN</td>\n",
              "      <td>NaN</td>\n",
              "      <td>NaN</td>\n",
              "    </tr>\n",
              "    <tr>\n",
              "      <th>11</th>\n",
              "      <td>ko</td>\n",
              "      <td>NaN</td>\n",
              "      <td>NaN</td>\n",
              "      <td>NaN</td>\n",
              "      <td>NaN</td>\n",
              "      <td>NaN</td>\n",
              "      <td>NaN</td>\n",
              "    </tr>\n",
              "    <tr>\n",
              "      <th>12</th>\n",
              "      <td>pt</td>\n",
              "      <td>NaN</td>\n",
              "      <td>NaN</td>\n",
              "      <td>NaN</td>\n",
              "      <td>NaN</td>\n",
              "      <td>NaN</td>\n",
              "      <td>NaN</td>\n",
              "    </tr>\n",
              "    <tr>\n",
              "      <th>13</th>\n",
              "      <td>ru</td>\n",
              "      <td>NaN</td>\n",
              "      <td>NaN</td>\n",
              "      <td>NaN</td>\n",
              "      <td>NaN</td>\n",
              "      <td>NaN</td>\n",
              "      <td>NaN</td>\n",
              "    </tr>\n",
              "    <tr>\n",
              "      <th>14</th>\n",
              "      <td>sr</td>\n",
              "      <td>NaN</td>\n",
              "      <td>NaN</td>\n",
              "      <td>NaN</td>\n",
              "      <td>NaN</td>\n",
              "      <td>NaN</td>\n",
              "      <td>NaN</td>\n",
              "    </tr>\n",
              "    <tr>\n",
              "      <th>15</th>\n",
              "      <td>sv</td>\n",
              "      <td>NaN</td>\n",
              "      <td>NaN</td>\n",
              "      <td>NaN</td>\n",
              "      <td>NaN</td>\n",
              "      <td>NaN</td>\n",
              "      <td>NaN</td>\n",
              "    </tr>\n",
              "    <tr>\n",
              "      <th>16</th>\n",
              "      <td>te</td>\n",
              "      <td>NaN</td>\n",
              "      <td>NaN</td>\n",
              "      <td>NaN</td>\n",
              "      <td>NaN</td>\n",
              "      <td>NaN</td>\n",
              "      <td>NaN</td>\n",
              "    </tr>\n",
              "    <tr>\n",
              "      <th>17</th>\n",
              "      <td>zh</td>\n",
              "      <td>NaN</td>\n",
              "      <td>NaN</td>\n",
              "      <td>NaN</td>\n",
              "      <td>NaN</td>\n",
              "      <td>NaN</td>\n",
              "      <td>NaN</td>\n",
              "    </tr>\n",
              "  </tbody>\n",
              "</table>\n",
              "</div>\n",
              "      <button class=\"colab-df-convert\" onclick=\"convertToInteractive('df-eef86c73-1068-42c0-9e32-a5c06e3a1632')\"\n",
              "              title=\"Convert this dataframe to an interactive table.\"\n",
              "              style=\"display:none;\">\n",
              "        \n",
              "  <svg xmlns=\"http://www.w3.org/2000/svg\" height=\"24px\"viewBox=\"0 0 24 24\"\n",
              "       width=\"24px\">\n",
              "    <path d=\"M0 0h24v24H0V0z\" fill=\"none\"/>\n",
              "    <path d=\"M18.56 5.44l.94 2.06.94-2.06 2.06-.94-2.06-.94-.94-2.06-.94 2.06-2.06.94zm-11 1L8.5 8.5l.94-2.06 2.06-.94-2.06-.94L8.5 2.5l-.94 2.06-2.06.94zm10 10l.94 2.06.94-2.06 2.06-.94-2.06-.94-.94-2.06-.94 2.06-2.06.94z\"/><path d=\"M17.41 7.96l-1.37-1.37c-.4-.4-.92-.59-1.43-.59-.52 0-1.04.2-1.43.59L10.3 9.45l-7.72 7.72c-.78.78-.78 2.05 0 2.83L4 21.41c.39.39.9.59 1.41.59.51 0 1.02-.2 1.41-.59l7.78-7.78 2.81-2.81c.8-.78.8-2.07 0-2.86zM5.41 20L4 18.59l7.72-7.72 1.47 1.35L5.41 20z\"/>\n",
              "  </svg>\n",
              "      </button>\n",
              "      \n",
              "  <style>\n",
              "    .colab-df-container {\n",
              "      display:flex;\n",
              "      flex-wrap:wrap;\n",
              "      gap: 12px;\n",
              "    }\n",
              "\n",
              "    .colab-df-convert {\n",
              "      background-color: #E8F0FE;\n",
              "      border: none;\n",
              "      border-radius: 50%;\n",
              "      cursor: pointer;\n",
              "      display: none;\n",
              "      fill: #1967D2;\n",
              "      height: 32px;\n",
              "      padding: 0 0 0 0;\n",
              "      width: 32px;\n",
              "    }\n",
              "\n",
              "    .colab-df-convert:hover {\n",
              "      background-color: #E2EBFA;\n",
              "      box-shadow: 0px 1px 2px rgba(60, 64, 67, 0.3), 0px 1px 3px 1px rgba(60, 64, 67, 0.15);\n",
              "      fill: #174EA6;\n",
              "    }\n",
              "\n",
              "    [theme=dark] .colab-df-convert {\n",
              "      background-color: #3B4455;\n",
              "      fill: #D2E3FC;\n",
              "    }\n",
              "\n",
              "    [theme=dark] .colab-df-convert:hover {\n",
              "      background-color: #434B5C;\n",
              "      box-shadow: 0px 1px 3px 1px rgba(0, 0, 0, 0.15);\n",
              "      filter: drop-shadow(0px 1px 2px rgba(0, 0, 0, 0.3));\n",
              "      fill: #FFFFFF;\n",
              "    }\n",
              "  </style>\n",
              "\n",
              "      <script>\n",
              "        const buttonEl =\n",
              "          document.querySelector('#df-eef86c73-1068-42c0-9e32-a5c06e3a1632 button.colab-df-convert');\n",
              "        buttonEl.style.display =\n",
              "          google.colab.kernel.accessAllowed ? 'block' : 'none';\n",
              "\n",
              "        async function convertToInteractive(key) {\n",
              "          const element = document.querySelector('#df-eef86c73-1068-42c0-9e32-a5c06e3a1632');\n",
              "          const dataTable =\n",
              "            await google.colab.kernel.invokeFunction('convertToInteractive',\n",
              "                                                     [key], {});\n",
              "          if (!dataTable) return;\n",
              "\n",
              "          const docLinkHtml = 'Like what you see? Visit the ' +\n",
              "            '<a target=\"_blank\" href=https://colab.research.google.com/notebooks/data_table.ipynb>data table notebook</a>'\n",
              "            + ' to learn more about interactive tables.';\n",
              "          element.innerHTML = '';\n",
              "          dataTable['output_type'] = 'display_data';\n",
              "          await google.colab.output.renderOutput(dataTable, element);\n",
              "          const docLink = document.createElement('div');\n",
              "          docLink.innerHTML = docLinkHtml;\n",
              "          element.appendChild(docLink);\n",
              "        }\n",
              "      </script>\n",
              "    </div>\n",
              "  </div>\n",
              "  "
            ]
          },
          "metadata": {},
          "execution_count": 214
        }
      ]
    },
    {
      "cell_type": "markdown",
      "source": [
        "# Modeling"
      ],
      "metadata": {
        "id": "oS6GbsozMMXQ"
      }
    },
    {
      "cell_type": "code",
      "source": [
        "# Encoding year and original_language\n",
        "\n",
        "c = movies_ratings[['year', 'original_language']]\n",
        "encoder = OneHotEncoder(sparse=False)\n",
        "encoder.fit(c)\n",
        "c2 = encoder.transform(c)\n",
        "df = pd.DataFrame(c2, columns=encoder.get_feature_names())\n",
        "df\n",
        "movies_ratings2 = pd.concat([movies_ratings.drop(['year', 'original_language'], axis = 1), df], axis=1)"
      ],
      "metadata": {
        "colab": {
          "base_uri": "https://localhost:8080/"
        },
        "id": "vovu452MMOOj",
        "outputId": "fcd0244c-53a0-4fac-d60e-07d0c938a6e0"
      },
      "execution_count": 215,
      "outputs": [
        {
          "output_type": "stream",
          "name": "stderr",
          "text": [
            "/usr/local/lib/python3.7/dist-packages/sklearn/utils/deprecation.py:87: FutureWarning: Function get_feature_names is deprecated; get_feature_names is deprecated in 1.0 and will be removed in 1.2. Please use get_feature_names_out instead.\n",
            "  warnings.warn(msg, category=FutureWarning)\n"
          ]
        }
      ]
    },
    {
      "cell_type": "code",
      "source": [
        "# Dropping variables which will not be used\n",
        "\n",
        "movies_ratings=movies_ratings2.drop(['title', 'description', 'director', 'actors', 'votes', 'adult', 'genres',\n",
        "                                     'poster_path', 'production_companies', 'production_countries'], axis=1)"
      ],
      "metadata": {
        "id": "HITcUYdyMyVw"
      },
      "execution_count": 216,
      "outputs": []
    },
    {
      "cell_type": "code",
      "source": [
        "# Dropping null values\n",
        "\n",
        "movies_ratings=movies_ratings.dropna(how='any', axis=0)"
      ],
      "metadata": {
        "id": "GvPFTJ3sPNRs"
      },
      "execution_count": 217,
      "outputs": []
    },
    {
      "cell_type": "code",
      "source": [
        "# Splitting the data into train and test data\n",
        "\n",
        "y = movies_ratings.rating\n",
        "x = movies_ratings.drop('rating', axis = 1)\n",
        "x_train, x_test, y_train, y_test = train_test_split(x, y, test_size=0.2, random_state=7)"
      ],
      "metadata": {
        "id": "sbzewtf1Pa15"
      },
      "execution_count": 218,
      "outputs": []
    },
    {
      "cell_type": "markdown",
      "source": [
        "## Linear Regression"
      ],
      "metadata": {
        "id": "613grXAUPxs3"
      }
    },
    {
      "cell_type": "code",
      "source": [
        "regressor = LinearRegression()\n",
        "\n",
        "# Training the algorithm\n",
        "\n",
        "regressor.fit(x_train, y_train)"
      ],
      "metadata": {
        "colab": {
          "base_uri": "https://localhost:8080/"
        },
        "id": "hHPut5hRP0TH",
        "outputId": "f8bae634-4509-4eed-eed4-ff211f5d278a"
      },
      "execution_count": 219,
      "outputs": [
        {
          "output_type": "execute_result",
          "data": {
            "text/plain": [
              "LinearRegression()"
            ]
          },
          "metadata": {},
          "execution_count": 219
        }
      ]
    },
    {
      "cell_type": "code",
      "source": [
        "# Coefficients\n",
        "\n",
        "coeff_df = pd.DataFrame(regressor.coef_, x.columns, columns = ['Coefficient'])\n",
        "coeff_df"
      ],
      "metadata": {
        "colab": {
          "base_uri": "https://localhost:8080/",
          "height": 1000
        },
        "id": "K_ToEsdtR4f-",
        "outputId": "81cee6f2-609f-4af3-8ead-b1285db0c08b"
      },
      "execution_count": 220,
      "outputs": [
        {
          "output_type": "execute_result",
          "data": {
            "text/plain": [
              "             Coefficient\n",
              "duration    1.255905e-02\n",
              "budget     -2.124966e-09\n",
              "metascore   3.425627e-02\n",
              "popularity  1.076187e-03\n",
              "revenue     1.224920e-10\n",
              "x0_1970    -1.378367e-08\n",
              "x0_1971    -1.339069e-08\n",
              "x0_1972     1.675330e-08\n",
              "x0_1973     6.928744e-09\n",
              "x0_1976    -2.573303e-09\n",
              "x0_1977     3.173130e-09\n",
              "x0_1979    -7.751261e-11\n",
              "x0_1980     3.283848e-11\n",
              "x0_1981     1.490994e+00\n",
              "x0_1982     7.942200e-02\n",
              "x0_1983     7.442264e-02\n",
              "x0_1984    -4.987946e-01\n",
              "x0_1985    -6.779671e-01\n",
              "x0_1986     1.383688e-01\n",
              "x0_1987    -6.321796e-01\n",
              "x0_1988     3.941101e-02\n",
              "x0_1989     1.235911e-01\n",
              "x0_1990    -9.339483e-01\n",
              "x0_1991    -1.078027e-13\n",
              "x0_1992     3.259585e-01\n",
              "x0_1993    -3.606829e-01\n",
              "x0_1994    -1.880432e-01\n",
              "x0_1995    -1.402508e-01\n",
              "x0_1996     7.952547e-02\n",
              "x0_1997     8.067135e-01\n",
              "x0_1998     2.170567e-01\n",
              "x0_1999     4.163336e-17\n",
              "x0_2000     2.404452e-02\n",
              "x0_2001     3.365353e-02\n",
              "x0_2002    -3.468608e-02\n",
              "x0_2003     3.460910e-01\n",
              "x0_2004    -4.500377e-01\n",
              "x0_2005    -1.414372e-01\n",
              "x0_2006     1.815752e-01\n",
              "x0_2007     8.039851e-01\n",
              "x0_2008    -1.068114e-01\n",
              "x0_2009    -2.403369e-01\n",
              "x0_2010     4.564781e-02\n",
              "x0_2011    -3.078064e-01\n",
              "x0_2012    -4.542439e-01\n",
              "x0_2013    -4.048022e-01\n",
              "x0_2014    -4.294758e-02\n",
              "x0_2015     3.877979e-01\n",
              "x0_2016    -6.157628e-02\n",
              "x0_2017     4.782942e-01\n",
              "x1_da      -1.023533e+00\n",
              "x1_en       1.992422e-01\n",
              "x1_fr       8.242908e-01\n",
              "x1_it       0.000000e+00"
            ],
            "text/html": [
              "\n",
              "  <div id=\"df-81815246-a3b7-4970-92c1-8634a708e4c9\">\n",
              "    <div class=\"colab-df-container\">\n",
              "      <div>\n",
              "<style scoped>\n",
              "    .dataframe tbody tr th:only-of-type {\n",
              "        vertical-align: middle;\n",
              "    }\n",
              "\n",
              "    .dataframe tbody tr th {\n",
              "        vertical-align: top;\n",
              "    }\n",
              "\n",
              "    .dataframe thead th {\n",
              "        text-align: right;\n",
              "    }\n",
              "</style>\n",
              "<table border=\"1\" class=\"dataframe\">\n",
              "  <thead>\n",
              "    <tr style=\"text-align: right;\">\n",
              "      <th></th>\n",
              "      <th>Coefficient</th>\n",
              "    </tr>\n",
              "  </thead>\n",
              "  <tbody>\n",
              "    <tr>\n",
              "      <th>duration</th>\n",
              "      <td>1.255905e-02</td>\n",
              "    </tr>\n",
              "    <tr>\n",
              "      <th>budget</th>\n",
              "      <td>-2.124966e-09</td>\n",
              "    </tr>\n",
              "    <tr>\n",
              "      <th>metascore</th>\n",
              "      <td>3.425627e-02</td>\n",
              "    </tr>\n",
              "    <tr>\n",
              "      <th>popularity</th>\n",
              "      <td>1.076187e-03</td>\n",
              "    </tr>\n",
              "    <tr>\n",
              "      <th>revenue</th>\n",
              "      <td>1.224920e-10</td>\n",
              "    </tr>\n",
              "    <tr>\n",
              "      <th>x0_1970</th>\n",
              "      <td>-1.378367e-08</td>\n",
              "    </tr>\n",
              "    <tr>\n",
              "      <th>x0_1971</th>\n",
              "      <td>-1.339069e-08</td>\n",
              "    </tr>\n",
              "    <tr>\n",
              "      <th>x0_1972</th>\n",
              "      <td>1.675330e-08</td>\n",
              "    </tr>\n",
              "    <tr>\n",
              "      <th>x0_1973</th>\n",
              "      <td>6.928744e-09</td>\n",
              "    </tr>\n",
              "    <tr>\n",
              "      <th>x0_1976</th>\n",
              "      <td>-2.573303e-09</td>\n",
              "    </tr>\n",
              "    <tr>\n",
              "      <th>x0_1977</th>\n",
              "      <td>3.173130e-09</td>\n",
              "    </tr>\n",
              "    <tr>\n",
              "      <th>x0_1979</th>\n",
              "      <td>-7.751261e-11</td>\n",
              "    </tr>\n",
              "    <tr>\n",
              "      <th>x0_1980</th>\n",
              "      <td>3.283848e-11</td>\n",
              "    </tr>\n",
              "    <tr>\n",
              "      <th>x0_1981</th>\n",
              "      <td>1.490994e+00</td>\n",
              "    </tr>\n",
              "    <tr>\n",
              "      <th>x0_1982</th>\n",
              "      <td>7.942200e-02</td>\n",
              "    </tr>\n",
              "    <tr>\n",
              "      <th>x0_1983</th>\n",
              "      <td>7.442264e-02</td>\n",
              "    </tr>\n",
              "    <tr>\n",
              "      <th>x0_1984</th>\n",
              "      <td>-4.987946e-01</td>\n",
              "    </tr>\n",
              "    <tr>\n",
              "      <th>x0_1985</th>\n",
              "      <td>-6.779671e-01</td>\n",
              "    </tr>\n",
              "    <tr>\n",
              "      <th>x0_1986</th>\n",
              "      <td>1.383688e-01</td>\n",
              "    </tr>\n",
              "    <tr>\n",
              "      <th>x0_1987</th>\n",
              "      <td>-6.321796e-01</td>\n",
              "    </tr>\n",
              "    <tr>\n",
              "      <th>x0_1988</th>\n",
              "      <td>3.941101e-02</td>\n",
              "    </tr>\n",
              "    <tr>\n",
              "      <th>x0_1989</th>\n",
              "      <td>1.235911e-01</td>\n",
              "    </tr>\n",
              "    <tr>\n",
              "      <th>x0_1990</th>\n",
              "      <td>-9.339483e-01</td>\n",
              "    </tr>\n",
              "    <tr>\n",
              "      <th>x0_1991</th>\n",
              "      <td>-1.078027e-13</td>\n",
              "    </tr>\n",
              "    <tr>\n",
              "      <th>x0_1992</th>\n",
              "      <td>3.259585e-01</td>\n",
              "    </tr>\n",
              "    <tr>\n",
              "      <th>x0_1993</th>\n",
              "      <td>-3.606829e-01</td>\n",
              "    </tr>\n",
              "    <tr>\n",
              "      <th>x0_1994</th>\n",
              "      <td>-1.880432e-01</td>\n",
              "    </tr>\n",
              "    <tr>\n",
              "      <th>x0_1995</th>\n",
              "      <td>-1.402508e-01</td>\n",
              "    </tr>\n",
              "    <tr>\n",
              "      <th>x0_1996</th>\n",
              "      <td>7.952547e-02</td>\n",
              "    </tr>\n",
              "    <tr>\n",
              "      <th>x0_1997</th>\n",
              "      <td>8.067135e-01</td>\n",
              "    </tr>\n",
              "    <tr>\n",
              "      <th>x0_1998</th>\n",
              "      <td>2.170567e-01</td>\n",
              "    </tr>\n",
              "    <tr>\n",
              "      <th>x0_1999</th>\n",
              "      <td>4.163336e-17</td>\n",
              "    </tr>\n",
              "    <tr>\n",
              "      <th>x0_2000</th>\n",
              "      <td>2.404452e-02</td>\n",
              "    </tr>\n",
              "    <tr>\n",
              "      <th>x0_2001</th>\n",
              "      <td>3.365353e-02</td>\n",
              "    </tr>\n",
              "    <tr>\n",
              "      <th>x0_2002</th>\n",
              "      <td>-3.468608e-02</td>\n",
              "    </tr>\n",
              "    <tr>\n",
              "      <th>x0_2003</th>\n",
              "      <td>3.460910e-01</td>\n",
              "    </tr>\n",
              "    <tr>\n",
              "      <th>x0_2004</th>\n",
              "      <td>-4.500377e-01</td>\n",
              "    </tr>\n",
              "    <tr>\n",
              "      <th>x0_2005</th>\n",
              "      <td>-1.414372e-01</td>\n",
              "    </tr>\n",
              "    <tr>\n",
              "      <th>x0_2006</th>\n",
              "      <td>1.815752e-01</td>\n",
              "    </tr>\n",
              "    <tr>\n",
              "      <th>x0_2007</th>\n",
              "      <td>8.039851e-01</td>\n",
              "    </tr>\n",
              "    <tr>\n",
              "      <th>x0_2008</th>\n",
              "      <td>-1.068114e-01</td>\n",
              "    </tr>\n",
              "    <tr>\n",
              "      <th>x0_2009</th>\n",
              "      <td>-2.403369e-01</td>\n",
              "    </tr>\n",
              "    <tr>\n",
              "      <th>x0_2010</th>\n",
              "      <td>4.564781e-02</td>\n",
              "    </tr>\n",
              "    <tr>\n",
              "      <th>x0_2011</th>\n",
              "      <td>-3.078064e-01</td>\n",
              "    </tr>\n",
              "    <tr>\n",
              "      <th>x0_2012</th>\n",
              "      <td>-4.542439e-01</td>\n",
              "    </tr>\n",
              "    <tr>\n",
              "      <th>x0_2013</th>\n",
              "      <td>-4.048022e-01</td>\n",
              "    </tr>\n",
              "    <tr>\n",
              "      <th>x0_2014</th>\n",
              "      <td>-4.294758e-02</td>\n",
              "    </tr>\n",
              "    <tr>\n",
              "      <th>x0_2015</th>\n",
              "      <td>3.877979e-01</td>\n",
              "    </tr>\n",
              "    <tr>\n",
              "      <th>x0_2016</th>\n",
              "      <td>-6.157628e-02</td>\n",
              "    </tr>\n",
              "    <tr>\n",
              "      <th>x0_2017</th>\n",
              "      <td>4.782942e-01</td>\n",
              "    </tr>\n",
              "    <tr>\n",
              "      <th>x1_da</th>\n",
              "      <td>-1.023533e+00</td>\n",
              "    </tr>\n",
              "    <tr>\n",
              "      <th>x1_en</th>\n",
              "      <td>1.992422e-01</td>\n",
              "    </tr>\n",
              "    <tr>\n",
              "      <th>x1_fr</th>\n",
              "      <td>8.242908e-01</td>\n",
              "    </tr>\n",
              "    <tr>\n",
              "      <th>x1_it</th>\n",
              "      <td>0.000000e+00</td>\n",
              "    </tr>\n",
              "  </tbody>\n",
              "</table>\n",
              "</div>\n",
              "      <button class=\"colab-df-convert\" onclick=\"convertToInteractive('df-81815246-a3b7-4970-92c1-8634a708e4c9')\"\n",
              "              title=\"Convert this dataframe to an interactive table.\"\n",
              "              style=\"display:none;\">\n",
              "        \n",
              "  <svg xmlns=\"http://www.w3.org/2000/svg\" height=\"24px\"viewBox=\"0 0 24 24\"\n",
              "       width=\"24px\">\n",
              "    <path d=\"M0 0h24v24H0V0z\" fill=\"none\"/>\n",
              "    <path d=\"M18.56 5.44l.94 2.06.94-2.06 2.06-.94-2.06-.94-.94-2.06-.94 2.06-2.06.94zm-11 1L8.5 8.5l.94-2.06 2.06-.94-2.06-.94L8.5 2.5l-.94 2.06-2.06.94zm10 10l.94 2.06.94-2.06 2.06-.94-2.06-.94-.94-2.06-.94 2.06-2.06.94z\"/><path d=\"M17.41 7.96l-1.37-1.37c-.4-.4-.92-.59-1.43-.59-.52 0-1.04.2-1.43.59L10.3 9.45l-7.72 7.72c-.78.78-.78 2.05 0 2.83L4 21.41c.39.39.9.59 1.41.59.51 0 1.02-.2 1.41-.59l7.78-7.78 2.81-2.81c.8-.78.8-2.07 0-2.86zM5.41 20L4 18.59l7.72-7.72 1.47 1.35L5.41 20z\"/>\n",
              "  </svg>\n",
              "      </button>\n",
              "      \n",
              "  <style>\n",
              "    .colab-df-container {\n",
              "      display:flex;\n",
              "      flex-wrap:wrap;\n",
              "      gap: 12px;\n",
              "    }\n",
              "\n",
              "    .colab-df-convert {\n",
              "      background-color: #E8F0FE;\n",
              "      border: none;\n",
              "      border-radius: 50%;\n",
              "      cursor: pointer;\n",
              "      display: none;\n",
              "      fill: #1967D2;\n",
              "      height: 32px;\n",
              "      padding: 0 0 0 0;\n",
              "      width: 32px;\n",
              "    }\n",
              "\n",
              "    .colab-df-convert:hover {\n",
              "      background-color: #E2EBFA;\n",
              "      box-shadow: 0px 1px 2px rgba(60, 64, 67, 0.3), 0px 1px 3px 1px rgba(60, 64, 67, 0.15);\n",
              "      fill: #174EA6;\n",
              "    }\n",
              "\n",
              "    [theme=dark] .colab-df-convert {\n",
              "      background-color: #3B4455;\n",
              "      fill: #D2E3FC;\n",
              "    }\n",
              "\n",
              "    [theme=dark] .colab-df-convert:hover {\n",
              "      background-color: #434B5C;\n",
              "      box-shadow: 0px 1px 3px 1px rgba(0, 0, 0, 0.15);\n",
              "      filter: drop-shadow(0px 1px 2px rgba(0, 0, 0, 0.3));\n",
              "      fill: #FFFFFF;\n",
              "    }\n",
              "  </style>\n",
              "\n",
              "      <script>\n",
              "        const buttonEl =\n",
              "          document.querySelector('#df-81815246-a3b7-4970-92c1-8634a708e4c9 button.colab-df-convert');\n",
              "        buttonEl.style.display =\n",
              "          google.colab.kernel.accessAllowed ? 'block' : 'none';\n",
              "\n",
              "        async function convertToInteractive(key) {\n",
              "          const element = document.querySelector('#df-81815246-a3b7-4970-92c1-8634a708e4c9');\n",
              "          const dataTable =\n",
              "            await google.colab.kernel.invokeFunction('convertToInteractive',\n",
              "                                                     [key], {});\n",
              "          if (!dataTable) return;\n",
              "\n",
              "          const docLinkHtml = 'Like what you see? Visit the ' +\n",
              "            '<a target=\"_blank\" href=https://colab.research.google.com/notebooks/data_table.ipynb>data table notebook</a>'\n",
              "            + ' to learn more about interactive tables.';\n",
              "          element.innerHTML = '';\n",
              "          dataTable['output_type'] = 'display_data';\n",
              "          await google.colab.output.renderOutput(dataTable, element);\n",
              "          const docLink = document.createElement('div');\n",
              "          docLink.innerHTML = docLinkHtml;\n",
              "          element.appendChild(docLink);\n",
              "        }\n",
              "      </script>\n",
              "    </div>\n",
              "  </div>\n",
              "  "
            ]
          },
          "metadata": {},
          "execution_count": 220
        }
      ]
    },
    {
      "cell_type": "code",
      "source": [
        "# Prediction\n",
        "\n",
        "y_pred = regressor.predict(x_test)"
      ],
      "metadata": {
        "id": "IyS4mqBxQyHm"
      },
      "execution_count": 221,
      "outputs": []
    },
    {
      "cell_type": "code",
      "source": [
        "df = pd.DataFrame({'Actual': y_test, 'Predicted': y_pred})\n",
        "df1 = df.head(20)\n",
        "df1"
      ],
      "metadata": {
        "colab": {
          "base_uri": "https://localhost:8080/",
          "height": 676
        },
        "id": "7qbrOyYhQ2Nu",
        "outputId": "0581cf0a-6576-48a3-fe26-ff3df007d05c"
      },
      "execution_count": 222,
      "outputs": [
        {
          "output_type": "execute_result",
          "data": {
            "text/plain": [
              "     Actual  Predicted\n",
              "30      7.8   7.517834\n",
              "422     7.6   6.834480\n",
              "138     7.6   7.503000\n",
              "110     6.2   6.891991\n",
              "267     7.1   6.662149\n",
              "416     6.7   6.202122\n",
              "293     6.2   7.090553\n",
              "410     6.0   5.883419\n",
              "443     8.0   6.679767\n",
              "275     7.4   6.563925\n",
              "490     6.4   6.427929\n",
              "252     7.9   6.831813\n",
              "158     7.0   6.243516\n",
              "302     6.8   6.183396\n",
              "378     6.6   7.291497\n",
              "366     7.0   6.160394\n",
              "243     8.3   6.832969\n",
              "199     6.7   6.365903\n",
              "205     6.4   5.632205\n",
              "297     6.5   6.530576"
            ],
            "text/html": [
              "\n",
              "  <div id=\"df-92ccd7c8-152e-457d-92a6-d41bfd4efb18\">\n",
              "    <div class=\"colab-df-container\">\n",
              "      <div>\n",
              "<style scoped>\n",
              "    .dataframe tbody tr th:only-of-type {\n",
              "        vertical-align: middle;\n",
              "    }\n",
              "\n",
              "    .dataframe tbody tr th {\n",
              "        vertical-align: top;\n",
              "    }\n",
              "\n",
              "    .dataframe thead th {\n",
              "        text-align: right;\n",
              "    }\n",
              "</style>\n",
              "<table border=\"1\" class=\"dataframe\">\n",
              "  <thead>\n",
              "    <tr style=\"text-align: right;\">\n",
              "      <th></th>\n",
              "      <th>Actual</th>\n",
              "      <th>Predicted</th>\n",
              "    </tr>\n",
              "  </thead>\n",
              "  <tbody>\n",
              "    <tr>\n",
              "      <th>30</th>\n",
              "      <td>7.8</td>\n",
              "      <td>7.517834</td>\n",
              "    </tr>\n",
              "    <tr>\n",
              "      <th>422</th>\n",
              "      <td>7.6</td>\n",
              "      <td>6.834480</td>\n",
              "    </tr>\n",
              "    <tr>\n",
              "      <th>138</th>\n",
              "      <td>7.6</td>\n",
              "      <td>7.503000</td>\n",
              "    </tr>\n",
              "    <tr>\n",
              "      <th>110</th>\n",
              "      <td>6.2</td>\n",
              "      <td>6.891991</td>\n",
              "    </tr>\n",
              "    <tr>\n",
              "      <th>267</th>\n",
              "      <td>7.1</td>\n",
              "      <td>6.662149</td>\n",
              "    </tr>\n",
              "    <tr>\n",
              "      <th>416</th>\n",
              "      <td>6.7</td>\n",
              "      <td>6.202122</td>\n",
              "    </tr>\n",
              "    <tr>\n",
              "      <th>293</th>\n",
              "      <td>6.2</td>\n",
              "      <td>7.090553</td>\n",
              "    </tr>\n",
              "    <tr>\n",
              "      <th>410</th>\n",
              "      <td>6.0</td>\n",
              "      <td>5.883419</td>\n",
              "    </tr>\n",
              "    <tr>\n",
              "      <th>443</th>\n",
              "      <td>8.0</td>\n",
              "      <td>6.679767</td>\n",
              "    </tr>\n",
              "    <tr>\n",
              "      <th>275</th>\n",
              "      <td>7.4</td>\n",
              "      <td>6.563925</td>\n",
              "    </tr>\n",
              "    <tr>\n",
              "      <th>490</th>\n",
              "      <td>6.4</td>\n",
              "      <td>6.427929</td>\n",
              "    </tr>\n",
              "    <tr>\n",
              "      <th>252</th>\n",
              "      <td>7.9</td>\n",
              "      <td>6.831813</td>\n",
              "    </tr>\n",
              "    <tr>\n",
              "      <th>158</th>\n",
              "      <td>7.0</td>\n",
              "      <td>6.243516</td>\n",
              "    </tr>\n",
              "    <tr>\n",
              "      <th>302</th>\n",
              "      <td>6.8</td>\n",
              "      <td>6.183396</td>\n",
              "    </tr>\n",
              "    <tr>\n",
              "      <th>378</th>\n",
              "      <td>6.6</td>\n",
              "      <td>7.291497</td>\n",
              "    </tr>\n",
              "    <tr>\n",
              "      <th>366</th>\n",
              "      <td>7.0</td>\n",
              "      <td>6.160394</td>\n",
              "    </tr>\n",
              "    <tr>\n",
              "      <th>243</th>\n",
              "      <td>8.3</td>\n",
              "      <td>6.832969</td>\n",
              "    </tr>\n",
              "    <tr>\n",
              "      <th>199</th>\n",
              "      <td>6.7</td>\n",
              "      <td>6.365903</td>\n",
              "    </tr>\n",
              "    <tr>\n",
              "      <th>205</th>\n",
              "      <td>6.4</td>\n",
              "      <td>5.632205</td>\n",
              "    </tr>\n",
              "    <tr>\n",
              "      <th>297</th>\n",
              "      <td>6.5</td>\n",
              "      <td>6.530576</td>\n",
              "    </tr>\n",
              "  </tbody>\n",
              "</table>\n",
              "</div>\n",
              "      <button class=\"colab-df-convert\" onclick=\"convertToInteractive('df-92ccd7c8-152e-457d-92a6-d41bfd4efb18')\"\n",
              "              title=\"Convert this dataframe to an interactive table.\"\n",
              "              style=\"display:none;\">\n",
              "        \n",
              "  <svg xmlns=\"http://www.w3.org/2000/svg\" height=\"24px\"viewBox=\"0 0 24 24\"\n",
              "       width=\"24px\">\n",
              "    <path d=\"M0 0h24v24H0V0z\" fill=\"none\"/>\n",
              "    <path d=\"M18.56 5.44l.94 2.06.94-2.06 2.06-.94-2.06-.94-.94-2.06-.94 2.06-2.06.94zm-11 1L8.5 8.5l.94-2.06 2.06-.94-2.06-.94L8.5 2.5l-.94 2.06-2.06.94zm10 10l.94 2.06.94-2.06 2.06-.94-2.06-.94-.94-2.06-.94 2.06-2.06.94z\"/><path d=\"M17.41 7.96l-1.37-1.37c-.4-.4-.92-.59-1.43-.59-.52 0-1.04.2-1.43.59L10.3 9.45l-7.72 7.72c-.78.78-.78 2.05 0 2.83L4 21.41c.39.39.9.59 1.41.59.51 0 1.02-.2 1.41-.59l7.78-7.78 2.81-2.81c.8-.78.8-2.07 0-2.86zM5.41 20L4 18.59l7.72-7.72 1.47 1.35L5.41 20z\"/>\n",
              "  </svg>\n",
              "      </button>\n",
              "      \n",
              "  <style>\n",
              "    .colab-df-container {\n",
              "      display:flex;\n",
              "      flex-wrap:wrap;\n",
              "      gap: 12px;\n",
              "    }\n",
              "\n",
              "    .colab-df-convert {\n",
              "      background-color: #E8F0FE;\n",
              "      border: none;\n",
              "      border-radius: 50%;\n",
              "      cursor: pointer;\n",
              "      display: none;\n",
              "      fill: #1967D2;\n",
              "      height: 32px;\n",
              "      padding: 0 0 0 0;\n",
              "      width: 32px;\n",
              "    }\n",
              "\n",
              "    .colab-df-convert:hover {\n",
              "      background-color: #E2EBFA;\n",
              "      box-shadow: 0px 1px 2px rgba(60, 64, 67, 0.3), 0px 1px 3px 1px rgba(60, 64, 67, 0.15);\n",
              "      fill: #174EA6;\n",
              "    }\n",
              "\n",
              "    [theme=dark] .colab-df-convert {\n",
              "      background-color: #3B4455;\n",
              "      fill: #D2E3FC;\n",
              "    }\n",
              "\n",
              "    [theme=dark] .colab-df-convert:hover {\n",
              "      background-color: #434B5C;\n",
              "      box-shadow: 0px 1px 3px 1px rgba(0, 0, 0, 0.15);\n",
              "      filter: drop-shadow(0px 1px 2px rgba(0, 0, 0, 0.3));\n",
              "      fill: #FFFFFF;\n",
              "    }\n",
              "  </style>\n",
              "\n",
              "      <script>\n",
              "        const buttonEl =\n",
              "          document.querySelector('#df-92ccd7c8-152e-457d-92a6-d41bfd4efb18 button.colab-df-convert');\n",
              "        buttonEl.style.display =\n",
              "          google.colab.kernel.accessAllowed ? 'block' : 'none';\n",
              "\n",
              "        async function convertToInteractive(key) {\n",
              "          const element = document.querySelector('#df-92ccd7c8-152e-457d-92a6-d41bfd4efb18');\n",
              "          const dataTable =\n",
              "            await google.colab.kernel.invokeFunction('convertToInteractive',\n",
              "                                                     [key], {});\n",
              "          if (!dataTable) return;\n",
              "\n",
              "          const docLinkHtml = 'Like what you see? Visit the ' +\n",
              "            '<a target=\"_blank\" href=https://colab.research.google.com/notebooks/data_table.ipynb>data table notebook</a>'\n",
              "            + ' to learn more about interactive tables.';\n",
              "          element.innerHTML = '';\n",
              "          dataTable['output_type'] = 'display_data';\n",
              "          await google.colab.output.renderOutput(dataTable, element);\n",
              "          const docLink = document.createElement('div');\n",
              "          docLink.innerHTML = docLinkHtml;\n",
              "          element.appendChild(docLink);\n",
              "        }\n",
              "      </script>\n",
              "    </div>\n",
              "  </div>\n",
              "  "
            ]
          },
          "metadata": {},
          "execution_count": 222
        }
      ]
    },
    {
      "cell_type": "code",
      "source": [
        "df1.plot(kind='bar', figsize=(16,8))\n",
        "plt.grid(which='major', linestyle='-', linewidth='0.5', color='green')\n",
        "plt.grid(which='minor', linestyle='-', linewidth='0.5', color='black')\n",
        "plt.show()"
      ],
      "metadata": {
        "colab": {
          "base_uri": "https://localhost:8080/",
          "height": 492
        },
        "id": "2CQDvWlmSJnk",
        "outputId": "46f7443e-d3d2-474c-ed34-7f7f027e02ad"
      },
      "execution_count": 223,
      "outputs": [
        {
          "output_type": "display_data",
          "data": {
            "text/plain": [
              "<Figure size 1152x576 with 1 Axes>"
            ],
            "image/png": "[encoded data removed]"
          },
          "metadata": {
            "needs_background": "light"
          }
        }
      ]
    },
    {
      "cell_type": "code",
      "source": [
        "# Metrics\n",
        "\n",
        "print('Mean Absolute Error: ', metrics.mean_absolute_error(y_test, y_pred))\n",
        "print('Mean Squared Error: ', metrics.mean_squared_error(y_test, y_pred))\n",
        "print('Root Mean Squared Error: ', np.sqrt(metrics.mean_squared_error(y_test, y_pred)))"
      ],
      "metadata": {
        "colab": {
          "base_uri": "https://localhost:8080/"
        },
        "id": "bKzHbE3_SsDP",
        "outputId": "6b70caec-c73a-4795-e2c4-2613944e73f7"
      },
      "execution_count": 224,
      "outputs": [
        {
          "output_type": "stream",
          "name": "stdout",
          "text": [
            "Mean Absolute Error:  0.6332923587389645\n",
            "Mean Squared Error:  0.558183435566351\n",
            "Root Mean Squared Error:  0.7471167482839285\n"
          ]
        }
      ]
    },
    {
      "cell_type": "markdown",
      "source": [
        "## Regression Tree"
      ],
      "metadata": {
        "id": "lMRDIDVTTcTd"
      }
    },
    {
      "cell_type": "code",
      "source": [
        "regr_2 = DecisionTreeRegressor(max_depth=5)\n",
        "reg_tree=regr_2.fit(x_train, y_train)"
      ],
      "metadata": {
        "id": "FoEaF7G3TepW"
      },
      "execution_count": 225,
      "outputs": []
    },
    {
      "cell_type": "code",
      "source": [
        "# Predict\n",
        "y_2 = regr_2.predict(x_test)\n",
        "y_2"
      ],
      "metadata": {
        "colab": {
          "base_uri": "https://localhost:8080/"
        },
        "id": "JM6P1a7WToah",
        "outputId": "d9ec6de1-3485-4871-ba68-00cf5e43dfa3"
      },
      "execution_count": 226,
      "outputs": [
        {
          "output_type": "execute_result",
          "data": {
            "text/plain": [
              "array([7.1125    , 7.1125    , 7.1125    , 7.1125    , 6.8962963 ,\n",
              "       6.2       , 6.8962963 , 6.5       , 7.1125    , 7.1125    ,\n",
              "       7.1125    , 7.1125    , 6.1       , 6.8962963 , 6.8962963 ,\n",
              "       7.1125    , 7.1125    , 7.1125    , 6.8962963 , 6.57142857,\n",
              "       6.8       , 6.5       , 6.9       , 6.57142857, 7.1125    ,\n",
              "       6.18      , 7.1125    , 7.1125    , 6.8962963 ])"
            ]
          },
          "metadata": {},
          "execution_count": 226
        }
      ]
    },
    {
      "cell_type": "code",
      "source": [
        "df2 = pd.DataFrame({'Actual': y_test, 'Predicted': y_2})\n",
        "df3 = df.head(20)\n",
        "df3"
      ],
      "metadata": {
        "colab": {
          "base_uri": "https://localhost:8080/",
          "height": 676
        },
        "id": "xwgSxDrKTyTm",
        "outputId": "3b32b3ad-b505-4e81-c84d-81f5d47799e4"
      },
      "execution_count": 227,
      "outputs": [
        {
          "output_type": "execute_result",
          "data": {
            "text/plain": [
              "     Actual  Predicted\n",
              "30      7.8   7.517834\n",
              "422     7.6   6.834480\n",
              "138     7.6   7.503000\n",
              "110     6.2   6.891991\n",
              "267     7.1   6.662149\n",
              "416     6.7   6.202122\n",
              "293     6.2   7.090553\n",
              "410     6.0   5.883419\n",
              "443     8.0   6.679767\n",
              "275     7.4   6.563925\n",
              "490     6.4   6.427929\n",
              "252     7.9   6.831813\n",
              "158     7.0   6.243516\n",
              "302     6.8   6.183396\n",
              "378     6.6   7.291497\n",
              "366     7.0   6.160394\n",
              "243     8.3   6.832969\n",
              "199     6.7   6.365903\n",
              "205     6.4   5.632205\n",
              "297     6.5   6.530576"
            ],
            "text/html": [
              "\n",
              "  <div id=\"df-0883930f-34d0-4d82-ac02-1771bdae5628\">\n",
              "    <div class=\"colab-df-container\">\n",
              "      <div>\n",
              "<style scoped>\n",
              "    .dataframe tbody tr th:only-of-type {\n",
              "        vertical-align: middle;\n",
              "    }\n",
              "\n",
              "    .dataframe tbody tr th {\n",
              "        vertical-align: top;\n",
              "    }\n",
              "\n",
              "    .dataframe thead th {\n",
              "        text-align: right;\n",
              "    }\n",
              "</style>\n",
              "<table border=\"1\" class=\"dataframe\">\n",
              "  <thead>\n",
              "    <tr style=\"text-align: right;\">\n",
              "      <th></th>\n",
              "      <th>Actual</th>\n",
              "      <th>Predicted</th>\n",
              "    </tr>\n",
              "  </thead>\n",
              "  <tbody>\n",
              "    <tr>\n",
              "      <th>30</th>\n",
              "      <td>7.8</td>\n",
              "      <td>7.517834</td>\n",
              "    </tr>\n",
              "    <tr>\n",
              "      <th>422</th>\n",
              "      <td>7.6</td>\n",
              "      <td>6.834480</td>\n",
              "    </tr>\n",
              "    <tr>\n",
              "      <th>138</th>\n",
              "      <td>7.6</td>\n",
              "      <td>7.503000</td>\n",
              "    </tr>\n",
              "    <tr>\n",
              "      <th>110</th>\n",
              "      <td>6.2</td>\n",
              "      <td>6.891991</td>\n",
              "    </tr>\n",
              "    <tr>\n",
              "      <th>267</th>\n",
              "      <td>7.1</td>\n",
              "      <td>6.662149</td>\n",
              "    </tr>\n",
              "    <tr>\n",
              "      <th>416</th>\n",
              "      <td>6.7</td>\n",
              "      <td>6.202122</td>\n",
              "    </tr>\n",
              "    <tr>\n",
              "      <th>293</th>\n",
              "      <td>6.2</td>\n",
              "      <td>7.090553</td>\n",
              "    </tr>\n",
              "    <tr>\n",
              "      <th>410</th>\n",
              "      <td>6.0</td>\n",
              "      <td>5.883419</td>\n",
              "    </tr>\n",
              "    <tr>\n",
              "      <th>443</th>\n",
              "      <td>8.0</td>\n",
              "      <td>6.679767</td>\n",
              "    </tr>\n",
              "    <tr>\n",
              "      <th>275</th>\n",
              "      <td>7.4</td>\n",
              "      <td>6.563925</td>\n",
              "    </tr>\n",
              "    <tr>\n",
              "      <th>490</th>\n",
              "      <td>6.4</td>\n",
              "      <td>6.427929</td>\n",
              "    </tr>\n",
              "    <tr>\n",
              "      <th>252</th>\n",
              "      <td>7.9</td>\n",
              "      <td>6.831813</td>\n",
              "    </tr>\n",
              "    <tr>\n",
              "      <th>158</th>\n",
              "      <td>7.0</td>\n",
              "      <td>6.243516</td>\n",
              "    </tr>\n",
              "    <tr>\n",
              "      <th>302</th>\n",
              "      <td>6.8</td>\n",
              "      <td>6.183396</td>\n",
              "    </tr>\n",
              "    <tr>\n",
              "      <th>378</th>\n",
              "      <td>6.6</td>\n",
              "      <td>7.291497</td>\n",
              "    </tr>\n",
              "    <tr>\n",
              "      <th>366</th>\n",
              "      <td>7.0</td>\n",
              "      <td>6.160394</td>\n",
              "    </tr>\n",
              "    <tr>\n",
              "      <th>243</th>\n",
              "      <td>8.3</td>\n",
              "      <td>6.832969</td>\n",
              "    </tr>\n",
              "    <tr>\n",
              "      <th>199</th>\n",
              "      <td>6.7</td>\n",
              "      <td>6.365903</td>\n",
              "    </tr>\n",
              "    <tr>\n",
              "      <th>205</th>\n",
              "      <td>6.4</td>\n",
              "      <td>5.632205</td>\n",
              "    </tr>\n",
              "    <tr>\n",
              "      <th>297</th>\n",
              "      <td>6.5</td>\n",
              "      <td>6.530576</td>\n",
              "    </tr>\n",
              "  </tbody>\n",
              "</table>\n",
              "</div>\n",
              "      <button class=\"colab-df-convert\" onclick=\"convertToInteractive('df-0883930f-34d0-4d82-ac02-1771bdae5628')\"\n",
              "              title=\"Convert this dataframe to an interactive table.\"\n",
              "              style=\"display:none;\">\n",
              "        \n",
              "  <svg xmlns=\"http://www.w3.org/2000/svg\" height=\"24px\"viewBox=\"0 0 24 24\"\n",
              "       width=\"24px\">\n",
              "    <path d=\"M0 0h24v24H0V0z\" fill=\"none\"/>\n",
              "    <path d=\"M18.56 5.44l.94 2.06.94-2.06 2.06-.94-2.06-.94-.94-2.06-.94 2.06-2.06.94zm-11 1L8.5 8.5l.94-2.06 2.06-.94-2.06-.94L8.5 2.5l-.94 2.06-2.06.94zm10 10l.94 2.06.94-2.06 2.06-.94-2.06-.94-.94-2.06-.94 2.06-2.06.94z\"/><path d=\"M17.41 7.96l-1.37-1.37c-.4-.4-.92-.59-1.43-.59-.52 0-1.04.2-1.43.59L10.3 9.45l-7.72 7.72c-.78.78-.78 2.05 0 2.83L4 21.41c.39.39.9.59 1.41.59.51 0 1.02-.2 1.41-.59l7.78-7.78 2.81-2.81c.8-.78.8-2.07 0-2.86zM5.41 20L4 18.59l7.72-7.72 1.47 1.35L5.41 20z\"/>\n",
              "  </svg>\n",
              "      </button>\n",
              "      \n",
              "  <style>\n",
              "    .colab-df-container {\n",
              "      display:flex;\n",
              "      flex-wrap:wrap;\n",
              "      gap: 12px;\n",
              "    }\n",
              "\n",
              "    .colab-df-convert {\n",
              "      background-color: #E8F0FE;\n",
              "      border: none;\n",
              "      border-radius: 50%;\n",
              "      cursor: pointer;\n",
              "      display: none;\n",
              "      fill: #1967D2;\n",
              "      height: 32px;\n",
              "      padding: 0 0 0 0;\n",
              "      width: 32px;\n",
              "    }\n",
              "\n",
              "    .colab-df-convert:hover {\n",
              "      background-color: #E2EBFA;\n",
              "      box-shadow: 0px 1px 2px rgba(60, 64, 67, 0.3), 0px 1px 3px 1px rgba(60, 64, 67, 0.15);\n",
              "      fill: #174EA6;\n",
              "    }\n",
              "\n",
              "    [theme=dark] .colab-df-convert {\n",
              "      background-color: #3B4455;\n",
              "      fill: #D2E3FC;\n",
              "    }\n",
              "\n",
              "    [theme=dark] .colab-df-convert:hover {\n",
              "      background-color: #434B5C;\n",
              "      box-shadow: 0px 1px 3px 1px rgba(0, 0, 0, 0.15);\n",
              "      filter: drop-shadow(0px 1px 2px rgba(0, 0, 0, 0.3));\n",
              "      fill: #FFFFFF;\n",
              "    }\n",
              "  </style>\n",
              "\n",
              "      <script>\n",
              "        const buttonEl =\n",
              "          document.querySelector('#df-0883930f-34d0-4d82-ac02-1771bdae5628 button.colab-df-convert');\n",
              "        buttonEl.style.display =\n",
              "          google.colab.kernel.accessAllowed ? 'block' : 'none';\n",
              "\n",
              "        async function convertToInteractive(key) {\n",
              "          const element = document.querySelector('#df-0883930f-34d0-4d82-ac02-1771bdae5628');\n",
              "          const dataTable =\n",
              "            await google.colab.kernel.invokeFunction('convertToInteractive',\n",
              "                                                     [key], {});\n",
              "          if (!dataTable) return;\n",
              "\n",
              "          const docLinkHtml = 'Like what you see? Visit the ' +\n",
              "            '<a target=\"_blank\" href=https://colab.research.google.com/notebooks/data_table.ipynb>data table notebook</a>'\n",
              "            + ' to learn more about interactive tables.';\n",
              "          element.innerHTML = '';\n",
              "          dataTable['output_type'] = 'display_data';\n",
              "          await google.colab.output.renderOutput(dataTable, element);\n",
              "          const docLink = document.createElement('div');\n",
              "          docLink.innerHTML = docLinkHtml;\n",
              "          element.appendChild(docLink);\n",
              "        }\n",
              "      </script>\n",
              "    </div>\n",
              "  </div>\n",
              "  "
            ]
          },
          "metadata": {},
          "execution_count": 227
        }
      ]
    },
    {
      "cell_type": "code",
      "source": [
        "# Metrics\n",
        "\n",
        "print('Mean Absolute Error: ', metrics.mean_absolute_error(y_test, y_2))\n",
        "print('Mean Squared Error: ', metrics.mean_squared_error(y_test, y_2))\n",
        "print('Root Mean Squared Error: ', np.sqrt(metrics.mean_squared_error(y_test, y_2)))"
      ],
      "metadata": {
        "colab": {
          "base_uri": "https://localhost:8080/"
        },
        "id": "4slUAujSUCvZ",
        "outputId": "421e2f17-ce91-4965-8c92-a80206ed6e32"
      },
      "execution_count": 228,
      "outputs": [
        {
          "output_type": "stream",
          "name": "stdout",
          "text": [
            "Mean Absolute Error:  0.5105327494982669\n",
            "Mean Squared Error:  0.370831630082855\n",
            "Root Mean Squared Error:  0.6089594650572853\n"
          ]
        }
      ]
    },
    {
      "cell_type": "code",
      "source": [
        "df3.plot(kind='bar', figsize=(16,8))\n",
        "plt.grid(which='major', linestyle='-', linewidth='0.5', color='green')\n",
        "plt.grid(which='minor', linestyle='-', linewidth='0.5', color='black')\n",
        "plt.show()"
      ],
      "metadata": {
        "colab": {
          "base_uri": "https://localhost:8080/",
          "height": 492
        },
        "id": "5ZK62kGFUP24",
        "outputId": "bb687dc2-974b-47ac-df1e-78f5537ea95f"
      },
      "execution_count": 229,
      "outputs": [
        {
          "output_type": "display_data",
          "data": {
            "text/plain": [
              "<Figure size 1152x576 with 1 Axes>"
            ],
            "image/png": "[encoded data removed]"
          },
          "metadata": {
            "needs_background": "light"
          }
        }
      ]
    },
    {
      "cell_type": "markdown",
      "source": [
        "## Random Forest"
      ],
      "metadata": {
        "id": "ok8MkKSUUfsM"
      }
    },
    {
      "cell_type": "code",
      "source": [
        "model = RandomForestRegressor()\n",
        "model.fit(x_train, y_train)\n",
        "\n",
        "predicted_ratings = model.predict(x_test)"
      ],
      "metadata": {
        "id": "X_uu3LnoUhlX"
      },
      "execution_count": 230,
      "outputs": []
    },
    {
      "cell_type": "code",
      "source": [
        "df7 = pd.DataFrame({'Actual': y_test, 'Predicted': predicted_ratings})\n",
        "df8 = df3.head(20)\n",
        "df8"
      ],
      "metadata": {
        "colab": {
          "base_uri": "https://localhost:8080/",
          "height": 676
        },
        "id": "RQUyYoURUtht",
        "outputId": "a4412b90-605f-482a-c639-202a56511945"
      },
      "execution_count": 231,
      "outputs": [
        {
          "output_type": "execute_result",
          "data": {
            "text/plain": [
              "     Actual  Predicted\n",
              "30      7.8   7.517834\n",
              "422     7.6   6.834480\n",
              "138     7.6   7.503000\n",
              "110     6.2   6.891991\n",
              "267     7.1   6.662149\n",
              "416     6.7   6.202122\n",
              "293     6.2   7.090553\n",
              "410     6.0   5.883419\n",
              "443     8.0   6.679767\n",
              "275     7.4   6.563925\n",
              "490     6.4   6.427929\n",
              "252     7.9   6.831813\n",
              "158     7.0   6.243516\n",
              "302     6.8   6.183396\n",
              "378     6.6   7.291497\n",
              "366     7.0   6.160394\n",
              "243     8.3   6.832969\n",
              "199     6.7   6.365903\n",
              "205     6.4   5.632205\n",
              "297     6.5   6.530576"
            ],
            "text/html": [
              "\n",
              "  <div id=\"df-56aae81a-7fc0-49ec-b4be-c0564f026ed1\">\n",
              "    <div class=\"colab-df-container\">\n",
              "      <div>\n",
              "<style scoped>\n",
              "    .dataframe tbody tr th:only-of-type {\n",
              "        vertical-align: middle;\n",
              "    }\n",
              "\n",
              "    .dataframe tbody tr th {\n",
              "        vertical-align: top;\n",
              "    }\n",
              "\n",
              "    .dataframe thead th {\n",
              "        text-align: right;\n",
              "    }\n",
              "</style>\n",
              "<table border=\"1\" class=\"dataframe\">\n",
              "  <thead>\n",
              "    <tr style=\"text-align: right;\">\n",
              "      <th></th>\n",
              "      <th>Actual</th>\n",
              "      <th>Predicted</th>\n",
              "    </tr>\n",
              "  </thead>\n",
              "  <tbody>\n",
              "    <tr>\n",
              "      <th>30</th>\n",
              "      <td>7.8</td>\n",
              "      <td>7.517834</td>\n",
              "    </tr>\n",
              "    <tr>\n",
              "      <th>422</th>\n",
              "      <td>7.6</td>\n",
              "      <td>6.834480</td>\n",
              "    </tr>\n",
              "    <tr>\n",
              "      <th>138</th>\n",
              "      <td>7.6</td>\n",
              "      <td>7.503000</td>\n",
              "    </tr>\n",
              "    <tr>\n",
              "      <th>110</th>\n",
              "      <td>6.2</td>\n",
              "      <td>6.891991</td>\n",
              "    </tr>\n",
              "    <tr>\n",
              "      <th>267</th>\n",
              "      <td>7.1</td>\n",
              "      <td>6.662149</td>\n",
              "    </tr>\n",
              "    <tr>\n",
              "      <th>416</th>\n",
              "      <td>6.7</td>\n",
              "      <td>6.202122</td>\n",
              "    </tr>\n",
              "    <tr>\n",
              "      <th>293</th>\n",
              "      <td>6.2</td>\n",
              "      <td>7.090553</td>\n",
              "    </tr>\n",
              "    <tr>\n",
              "      <th>410</th>\n",
              "      <td>6.0</td>\n",
              "      <td>5.883419</td>\n",
              "    </tr>\n",
              "    <tr>\n",
              "      <th>443</th>\n",
              "      <td>8.0</td>\n",
              "      <td>6.679767</td>\n",
              "    </tr>\n",
              "    <tr>\n",
              "      <th>275</th>\n",
              "      <td>7.4</td>\n",
              "      <td>6.563925</td>\n",
              "    </tr>\n",
              "    <tr>\n",
              "      <th>490</th>\n",
              "      <td>6.4</td>\n",
              "      <td>6.427929</td>\n",
              "    </tr>\n",
              "    <tr>\n",
              "      <th>252</th>\n",
              "      <td>7.9</td>\n",
              "      <td>6.831813</td>\n",
              "    </tr>\n",
              "    <tr>\n",
              "      <th>158</th>\n",
              "      <td>7.0</td>\n",
              "      <td>6.243516</td>\n",
              "    </tr>\n",
              "    <tr>\n",
              "      <th>302</th>\n",
              "      <td>6.8</td>\n",
              "      <td>6.183396</td>\n",
              "    </tr>\n",
              "    <tr>\n",
              "      <th>378</th>\n",
              "      <td>6.6</td>\n",
              "      <td>7.291497</td>\n",
              "    </tr>\n",
              "    <tr>\n",
              "      <th>366</th>\n",
              "      <td>7.0</td>\n",
              "      <td>6.160394</td>\n",
              "    </tr>\n",
              "    <tr>\n",
              "      <th>243</th>\n",
              "      <td>8.3</td>\n",
              "      <td>6.832969</td>\n",
              "    </tr>\n",
              "    <tr>\n",
              "      <th>199</th>\n",
              "      <td>6.7</td>\n",
              "      <td>6.365903</td>\n",
              "    </tr>\n",
              "    <tr>\n",
              "      <th>205</th>\n",
              "      <td>6.4</td>\n",
              "      <td>5.632205</td>\n",
              "    </tr>\n",
              "    <tr>\n",
              "      <th>297</th>\n",
              "      <td>6.5</td>\n",
              "      <td>6.530576</td>\n",
              "    </tr>\n",
              "  </tbody>\n",
              "</table>\n",
              "</div>\n",
              "      <button class=\"colab-df-convert\" onclick=\"convertToInteractive('df-56aae81a-7fc0-49ec-b4be-c0564f026ed1')\"\n",
              "              title=\"Convert this dataframe to an interactive table.\"\n",
              "              style=\"display:none;\">\n",
              "        \n",
              "  <svg xmlns=\"http://www.w3.org/2000/svg\" height=\"24px\"viewBox=\"0 0 24 24\"\n",
              "       width=\"24px\">\n",
              "    <path d=\"M0 0h24v24H0V0z\" fill=\"none\"/>\n",
              "    <path d=\"M18.56 5.44l.94 2.06.94-2.06 2.06-.94-2.06-.94-.94-2.06-.94 2.06-2.06.94zm-11 1L8.5 8.5l.94-2.06 2.06-.94-2.06-.94L8.5 2.5l-.94 2.06-2.06.94zm10 10l.94 2.06.94-2.06 2.06-.94-2.06-.94-.94-2.06-.94 2.06-2.06.94z\"/><path d=\"M17.41 7.96l-1.37-1.37c-.4-.4-.92-.59-1.43-.59-.52 0-1.04.2-1.43.59L10.3 9.45l-7.72 7.72c-.78.78-.78 2.05 0 2.83L4 21.41c.39.39.9.59 1.41.59.51 0 1.02-.2 1.41-.59l7.78-7.78 2.81-2.81c.8-.78.8-2.07 0-2.86zM5.41 20L4 18.59l7.72-7.72 1.47 1.35L5.41 20z\"/>\n",
              "  </svg>\n",
              "      </button>\n",
              "      \n",
              "  <style>\n",
              "    .colab-df-container {\n",
              "      display:flex;\n",
              "      flex-wrap:wrap;\n",
              "      gap: 12px;\n",
              "    }\n",
              "\n",
              "    .colab-df-convert {\n",
              "      background-color: #E8F0FE;\n",
              "      border: none;\n",
              "      border-radius: 50%;\n",
              "      cursor: pointer;\n",
              "      display: none;\n",
              "      fill: #1967D2;\n",
              "      height: 32px;\n",
              "      padding: 0 0 0 0;\n",
              "      width: 32px;\n",
              "    }\n",
              "\n",
              "    .colab-df-convert:hover {\n",
              "      background-color: #E2EBFA;\n",
              "      box-shadow: 0px 1px 2px rgba(60, 64, 67, 0.3), 0px 1px 3px 1px rgba(60, 64, 67, 0.15);\n",
              "      fill: #174EA6;\n",
              "    }\n",
              "\n",
              "    [theme=dark] .colab-df-convert {\n",
              "      background-color: #3B4455;\n",
              "      fill: #D2E3FC;\n",
              "    }\n",
              "\n",
              "    [theme=dark] .colab-df-convert:hover {\n",
              "      background-color: #434B5C;\n",
              "      box-shadow: 0px 1px 3px 1px rgba(0, 0, 0, 0.15);\n",
              "      filter: drop-shadow(0px 1px 2px rgba(0, 0, 0, 0.3));\n",
              "      fill: #FFFFFF;\n",
              "    }\n",
              "  </style>\n",
              "\n",
              "      <script>\n",
              "        const buttonEl =\n",
              "          document.querySelector('#df-56aae81a-7fc0-49ec-b4be-c0564f026ed1 button.colab-df-convert');\n",
              "        buttonEl.style.display =\n",
              "          google.colab.kernel.accessAllowed ? 'block' : 'none';\n",
              "\n",
              "        async function convertToInteractive(key) {\n",
              "          const element = document.querySelector('#df-56aae81a-7fc0-49ec-b4be-c0564f026ed1');\n",
              "          const dataTable =\n",
              "            await google.colab.kernel.invokeFunction('convertToInteractive',\n",
              "                                                     [key], {});\n",
              "          if (!dataTable) return;\n",
              "\n",
              "          const docLinkHtml = 'Like what you see? Visit the ' +\n",
              "            '<a target=\"_blank\" href=https://colab.research.google.com/notebooks/data_table.ipynb>data table notebook</a>'\n",
              "            + ' to learn more about interactive tables.';\n",
              "          element.innerHTML = '';\n",
              "          dataTable['output_type'] = 'display_data';\n",
              "          await google.colab.output.renderOutput(dataTable, element);\n",
              "          const docLink = document.createElement('div');\n",
              "          docLink.innerHTML = docLinkHtml;\n",
              "          element.appendChild(docLink);\n",
              "        }\n",
              "      </script>\n",
              "    </div>\n",
              "  </div>\n",
              "  "
            ]
          },
          "metadata": {},
          "execution_count": 231
        }
      ]
    },
    {
      "cell_type": "code",
      "source": [
        "# Metrics\n",
        "\n",
        "print('Mean Absolute Error: ', metrics.mean_absolute_error(y_test, predicted_ratings))\n",
        "print('Mean Squared Error: ', metrics.mean_squared_error(y_test, predicted_ratings))\n",
        "print('Root Mean Squared Error: ', np.sqrt(metrics.mean_squared_error(y_test, predicted_ratings)))"
      ],
      "metadata": {
        "colab": {
          "base_uri": "https://localhost:8080/"
        },
        "id": "ZfoTx196U5kc",
        "outputId": "74384de9-0d76-4af5-bc51-abc3ee1bc357"
      },
      "execution_count": 232,
      "outputs": [
        {
          "output_type": "stream",
          "name": "stdout",
          "text": [
            "Mean Absolute Error:  0.48041379310344784\n",
            "Mean Squared Error:  0.35429310344827447\n",
            "Root Mean Squared Error:  0.5952252543770925\n"
          ]
        }
      ]
    },
    {
      "cell_type": "code",
      "source": [
        "df8.plot(kind='bar', figsize=(16,8))\n",
        "plt.grid(which='major', linestyle='-', linewidth='0.5', color='green')\n",
        "plt.grid(which='minor', linestyle='-', linewidth='0.5', color='black')\n",
        "plt.show()"
      ],
      "metadata": {
        "colab": {
          "base_uri": "https://localhost:8080/",
          "height": 492
        },
        "id": "7URTWR1nVM-T",
        "outputId": "e21f6dbc-7c11-4898-bb51-3caf4d968c3f"
      },
      "execution_count": 233,
      "outputs": [
        {
          "output_type": "display_data",
          "data": {
            "text/plain": [
              "<Figure size 1152x576 with 1 Axes>"
            ],
            "image/png": "[encoded data removed]"
          },
          "metadata": {
            "needs_background": "light"
          }
        }
      ]
    },
    {
      "cell_type": "markdown",
      "source": [
        "# Conclusion"
      ],
      "metadata": {
        "id": "tgkKgYVPVQcL"
      }
    },
    {
      "cell_type": "markdown",
      "source": [
        "After observing the Mean Squared Error (MSE) for all the models, I have come to a conclusion that, Random Forest is the best model with MSE value of ***0.2434*** followed by Regression Tree with MSE value of ***0.3526*** followed by Linear Regression with MSE value of ***0.50841***.\n",
        "\n",
        "**MSE values:**\n",
        "\n",
        "1. **Random Forest**: 0.2434\n",
        "2. **Regression Tree**: 0.3526\n",
        "3. **Linear Regression**: 0.50841"
      ],
      "metadata": {
        "id": "WWOx_gwR-8ig"
      }
    }
  ]
}